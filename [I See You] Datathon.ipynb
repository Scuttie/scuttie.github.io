{
  "nbformat": 4,
  "nbformat_minor": 0,
  "metadata": {
    "colab": {
      "provenance": [],
      "machine_shape": "hm",
      "gpuType": "T4",
      "collapsed_sections": [
        "Lkv-s5Vld30v"
      ]
    },
    "kernelspec": {
      "name": "python3",
      "display_name": "Python 3"
    },
    "language_info": {
      "name": "python"
    },
    "accelerator": "GPU"
  },
  "cells": [
    {
      "cell_type": "markdown",
      "source": [
        "# Data Load"
      ],
      "metadata": {
        "id": "L45SR2fjhSkn"
      }
    },
    {
      "cell_type": "code",
      "source": [
        "from google.colab import drive\n",
        "drive.mount('/content/drive')"
      ],
      "metadata": {
        "colab": {
          "base_uri": "https://localhost:8080/"
        },
        "id": "t-ylxhdq1lNp",
        "outputId": "f4b0dc98-d010-4e73-de3b-590bf852d487"
      },
      "execution_count": 1,
      "outputs": [
        {
          "output_type": "stream",
          "name": "stdout",
          "text": [
            "Mounted at /content/drive\n"
          ]
        }
      ]
    },
    {
      "cell_type": "code",
      "source": [
        "import pandas as pd\n",
        "\n",
        "# 각 파일 로드\n",
        "admissions = pd.read_csv('/content/drive/MyDrive/MIMIC-IV_V2.2/hosp/admissions.csv', dtype={'deathtime': 'object','icd_code': 'object', 'hadm_id': 'float64'})\n",
        "patients = pd.read_csv('/content/drive/MyDrive/MIMIC-IV_V2.2/hosp/patients.csv', dtype={'icd_code': 'object'})\n",
        "microbiologyevents = pd.read_csv('/content/drive/MyDrive/MIMIC-IV_V2.2/hosp/microbiologyevents.csv',\n",
        "                                dtype={\n",
        "                                    'ab_name': 'object',\n",
        "                                    'dilution_comparison': 'object',\n",
        "                                    'dilution_text': 'object',\n",
        "                                    'interpretation': 'object',\n",
        "                                    'org_name': 'object',\n",
        "                                    'quantity': 'object',\n",
        "                                    'icd_code': 'object'\n",
        "                                })\n",
        "\n",
        "diagnoses_icd = pd.read_csv('/content/drive/MyDrive/MIMIC-IV_V2.2/hosp/diagnoses_icd.csv', dtype={'icd_code': 'object', 'hadm_id': 'float64'})\n",
        "d_icd_procedures = pd.read_csv('/content/drive/MyDrive/MIMIC-IV_V2.2/hosp/d_icd_procedures.csv',dtype={'icd_code': 'object'})\n",
        "drgcodes = pd.read_csv('/content/drive/MyDrive/MIMIC-IV_V2.2/hosp/drgcodes.csv', dtype={'hadm_id': 'float64'})\n",
        "hcpcsevents = pd.read_csv('/content/drive/MyDrive/MIMIC-IV_V2.2/hosp/hcpcsevents.csv', dtype={'hadm_id': 'float64'})\n",
        "omr = pd.read_csv('/content/drive/MyDrive/MIMIC-IV_V2.2/hosp/omr.csv')\n",
        "services = pd.read_csv('/content/drive/MyDrive/MIMIC-IV_V2.2/hosp/services.csv', dtype={'hadm_id': 'float64', 'prev_service': 'object'})\n",
        "transfers = pd.read_csv('/content/drive/MyDrive/MIMIC-IV_V2.2/hosp/transfers.csv', dtype={'hadm_id': 'float64'})\n",
        "caregiver = pd.read_csv('/content/drive/MyDrive/MIMIC-IV_V2.2/icu/caregiver.csv')\n",
        "procedureevents = pd.read_csv('/content/drive/MyDrive/MIMIC-IV_V2.2/icu/procedureevents.csv', dtype={'hadm_id': 'float64', 'originalamount': 'float64'})\n",
        "d_items = pd.read_csv('/content/drive/MyDrive/MIMIC-IV_V2.2/icu/d_items.csv')\n",
        "datetimeevents = pd.read_csv('/content/drive/MyDrive/MIMIC-IV_V2.2/icu/datetimeevents.csv', dtype={'hadm_id': 'float64'})\n",
        "icustays = pd.read_csv('/content/drive/MyDrive/MIMIC-IV_V2.2/icu/icustays.csv', dtype={'hadm_id': 'float64'})\n",
        "inputevents = pd.read_csv('/content/drive/MyDrive/MIMIC-IV_V2.2/icu/inputevents.csv', dtype={'hadm_id': 'float64', 'originalamount': 'float64', 'originalrate': 'float64', 'totalamount': 'float64'})\n",
        "outputevents = pd.read_csv('/content/drive/MyDrive/MIMIC-IV_V2.2/icu/outputevents.csv', dtype={'hadm_id': 'float64', 'value': 'float64'})\n",
        "chartevents = pd.read_csv('/content/drive/MyDrive/MIMIC-IV_V2.2/icu/chartevents.csv', dtype={\n",
        "    'hadm_id': 'float64',\n",
        "    'caregiver_id': 'float64',\n",
        "    'value': 'object',\n",
        "    'valuenum': 'float64',\n",
        "    'warning': 'float64'\n",
        "})\n"
      ],
      "metadata": {
        "id": "PPt_fCR3Hzdn"
      },
      "execution_count": 2,
      "outputs": []
    },
    {
      "cell_type": "markdown",
      "source": [
        "# Feature Extraction & Feature Engineering"
      ],
      "metadata": {
        "id": "KJYTxBv0hWNs"
      }
    },
    {
      "cell_type": "markdown",
      "source": [
        "**해당 과정에서의 목적:**\n",
        "\n",
        "> 우리는 주어진 환자의 간단한 검사 기록을 기반으로 과거 데이터를 활용하여 주어진 환자의 사망 가능성을 예측하고자 한다.\n",
        "\n",
        "\n",
        "\n",
        "1.   z_score_absolute: 주어진 환자의 모든 검사 기록에 대한 z_score의 평균의 절댓값. 높을수록 환자의 검사 기록이 일반적인 상황에서 벗어난다고 생각할 수 있음.\n",
        "2. drg_severity / mortality: 주어진 환자의 모든 검사 기록에 대한 의사가 판단한 severity 및 mortality의 평균 값. 이 값이 높을수록 severity/mortality가 높다고 생각할 수 있음.\n",
        "3. avg_drg_severity / avg_drg_mortality: 각 drg_code별 평균 severity/mortality를 계산하여 주어진 환자의 모든 검사 기록에 대한 그것의 평균값을 환산함. 의사의 환자별 mortality 및 severity 판단의 bias를 제거하고, 해당 drg_code의 평균적으로 판단된 severity 및 mortality를 반영하기 위함임.\n",
        "\n",
        "\n",
        "\n"
      ],
      "metadata": {
        "id": "SOfc1XqPkLPn"
      }
    },
    {
      "cell_type": "code",
      "source": [
        "#drgcodes, patients, admissions 데이터를 subject_id를 기준으로 merge\n",
        "data = drgcodes.merge(admissions, on = ['subject_id', 'hadm_id']).merge(patients, on = ['subject_id']).iloc[:, [0, 1, 2, 5, 6, 14, 15, 16, 17, 21, 22, 23, 25]]"
      ],
      "metadata": {
        "id": "dIgjxRB_XPde"
      },
      "execution_count": 3,
      "outputs": []
    },
    {
      "cell_type": "code",
      "source": [
        "#각 진료검사 항목에 대해 평균과 표준편차를 계산함\n",
        "item_stats = pd.DataFrame([chartevents.groupby('itemid')['valuenum'].std(),chartevents.groupby('itemid')['valuenum'].mean()]).T\n",
        "item_stats.columns = ['std', 'mean']\n",
        "item_stats = item_stats.reset_index()"
      ],
      "metadata": {
        "id": "mL0EUmEj5b32"
      },
      "execution_count": 4,
      "outputs": []
    },
    {
      "cell_type": "code",
      "source": [
        "#chartevent의 진료 항목에 대해 각 subject_id별 각 진료검사 항목 별 평균을 계산함\n",
        "subject_stats = pd.DataFrame(chartevents.groupby(['subject_id', 'itemid'])['valuenum'].mean()).reset_index()"
      ],
      "metadata": {
        "id": "wALCjsra4jmu"
      },
      "execution_count": 5,
      "outputs": []
    },
    {
      "cell_type": "code",
      "source": [
        "#결측치는 제거함\n",
        "subject_stats = subject_stats.dropna()\n",
        "item_stats = item_stats.dropna()"
      ],
      "metadata": {
        "id": "A_u_QQOg7mq_"
      },
      "execution_count": 6,
      "outputs": []
    },
    {
      "cell_type": "code",
      "source": [
        "#item_stats와 subject_stats를 merge하여 각 subject_id별 각 진료검사 항목 별 평균과 그 항목의 평균 및 표준편차를 가져올 수 있도록 함\n",
        "subject_item_stats = subject_stats.merge(item_stats, on = 'itemid')"
      ],
      "metadata": {
        "id": "97XcwmaX6CPP"
      },
      "execution_count": 7,
      "outputs": []
    },
    {
      "cell_type": "code",
      "source": [
        "# z_score 절댓값 변수 생성하여 얼마나 해당 환자에 대해 각 진료검사별로 일반적이지 않은 결과가 나왔는지 계산할 수 있도록 함\n",
        "subject_item_stats['z_score_absolute'] = (abs((subject_item_stats['valuenum'] - subject_item_stats['mean'])/subject_item_stats['std']))"
      ],
      "metadata": {
        "id": "lLjoKyFt9A5L"
      },
      "execution_count": 8,
      "outputs": []
    },
    {
      "cell_type": "code",
      "source": [
        "#각 환자별로 진료검사에 대해 z_score 절댓값 변수의 평균을 구해 DataFrame으로 생성\n",
        "subject_z_scores = pd.DataFrame(subject_item_stats.groupby('subject_id')['z_score_absolute'].mean()).reset_index()"
      ],
      "metadata": {
        "id": "OBRKOgNy98_n"
      },
      "execution_count": 9,
      "outputs": []
    },
    {
      "cell_type": "code",
      "source": [
        "#기존 데이터에 merge\n",
        "data =data.merge(subject_z_scores, on = 'subject_id')"
      ],
      "metadata": {
        "id": "SltgVnB8-LGq"
      },
      "execution_count": 10,
      "outputs": []
    },
    {
      "cell_type": "code",
      "source": [
        "#dod (사망일) 변수에서 해당 환자의 사망 여부 변수를 생성하여 data에 추가\n",
        "data['dod'] = pd.to_datetime(data['dod'])\n",
        "data['year'] = data['dod'].dt.year\n",
        "data['difference_year'] = data['year'] - data['anchor_year']\n",
        "data['is_dead'] = (~data['difference_year'].isna()).astype(int)\n",
        "data = data.drop('difference_year', axis = 1)"
      ],
      "metadata": {
        "id": "ssCY--szaHm_"
      },
      "execution_count": 12,
      "outputs": []
    },
    {
      "cell_type": "code",
      "source": [
        "#필요없는 컬럼은 제거\n",
        "data = data.drop(['dod', 'year', 'anchor_year'], axis = 1)"
      ],
      "metadata": {
        "id": "Bwq71kxOGftZ"
      },
      "execution_count": 13,
      "outputs": []
    },
    {
      "cell_type": "code",
      "source": [
        "#각 환자가 받은 severity와 mortality의 평균값을 구해 drg_info DataFrame으로 만들기\n",
        "drg_info = pd.DataFrame([data.groupby('subject_id')['drg_severity'].mean(),data.groupby('subject_id')['drg_mortality'].mean()]).T.reset_index()"
      ],
      "metadata": {
        "id": "nDyeFkzoFLr-"
      },
      "execution_count": 14,
      "outputs": []
    },
    {
      "cell_type": "code",
      "source": [
        "#환자별로 데이터를 낼 수 있도록 환자별로 달랐던 데이터를 제거한 뒤 drop_duplicates 사용\n",
        "data_to_merge = data.drop(['drg_type', 'drg_severity', 'drg_mortality', 'hadm_id', 'insurance'], axis = 1).drop_duplicates()"
      ],
      "metadata": {
        "id": "Km5YFcV8GzC8"
      },
      "execution_count": 15,
      "outputs": []
    },
    {
      "cell_type": "code",
      "source": [
        "#drg_info와도 병합\n",
        "data_to_train = data_to_merge.merge(drg_info, on = 'subject_id').dropna()"
      ],
      "metadata": {
        "id": "SfBNMyqqFk9h"
      },
      "execution_count": 16,
      "outputs": []
    },
    {
      "cell_type": "code",
      "source": [
        "#drg_code_info에 drg_code별 평균 severity 및 mortality 계산\n",
        "drg_code_info = pd.DataFrame([drgcodes.groupby('drg_code')['drg_severity'].mean(), drgcodes.groupby('drg_code')['drg_mortality'].mean()]).T.reset_index()\n",
        "drg_code_info.columns = ['drg_code', 'avg_drg_severity', 'avg_drg_mortality']"
      ],
      "metadata": {
        "id": "bcxiJt7ubCiy"
      },
      "execution_count": 35,
      "outputs": []
    },
    {
      "cell_type": "code",
      "source": [
        "#drgcodes data에 병합\n",
        "drgcodes_to_merge = drgcodes.merge(drg_code_info, on = 'drg_code')"
      ],
      "metadata": {
        "id": "mQXeOBIZbhTA"
      },
      "execution_count": 37,
      "outputs": []
    },
    {
      "cell_type": "code",
      "source": [
        "#각 환자 별 avg_drg_severity 및 avg_drg_mortality의 평균을 구해 drg_avg_info에 입력\n",
        "drg_avg_info = pd.DataFrame([drgcodes_to_merge.groupby('subject_id')['avg_drg_severity'].mean(),drgcodes_to_merge.groupby('subject_id')['avg_drg_mortality'].mean()]).T.reset_index()"
      ],
      "metadata": {
        "id": "GxAtp6iNcQAg"
      },
      "execution_count": 48,
      "outputs": []
    },
    {
      "cell_type": "code",
      "source": [
        "#기존 데이터에 merge\n",
        "data_to_train = data_to_train.merge(drg_avg_info, on = 'subject_id').dropna()"
      ],
      "metadata": {
        "id": "NxfE76LYHxg3"
      },
      "execution_count": 53,
      "outputs": []
    },
    {
      "cell_type": "code",
      "source": [
        "#인종 변수를 단순화함\n",
        "def simplify_race(race):\n",
        "    white = ['WHITE', 'WHITE - RUSSIAN', 'WHITE - OTHER EUROPEAN', 'WHITE - EASTERN EUROPEAN']\n",
        "    black = ['BLACK/AFRICAN AMERICAN', 'BLACK/AFRICAN', 'BLACK/CAPE VERDEAN', 'BLACK/CARIBBEAN ISLAND']\n",
        "    asian = ['ASIAN - SOUTH EAST ASIAN', 'ASIAN', 'ASIAN - ASIAN INDIAN', 'ASIAN - CHINESE', 'ASIAN - KOREAN']\n",
        "    hispanic = ['PORTUGUESE', 'HISPANIC OR LATINO', 'HISPANIC/LATINO - PUERTO RICAN', 'HISPANIC/LATINO - GUATEMALAN', 'HISPANIC/LATINO - DOMINICAN', 'HISPANIC/LATINO - CENTRAL AMERICAN', 'HISPANIC/LATINO - HONDURAN']\n",
        "    other = ['PATIENT DECLINED TO ANSWER', 'OTHER', 'UNKNOWN', 'MULTIPLE RACE/ETHNICITY', 'UNABLE TO OBTAIN']\n",
        "\n",
        "    if race in white:\n",
        "        return 'WHITE'\n",
        "    elif race in black:\n",
        "        return 'BLACK'\n",
        "    elif race in asian:\n",
        "        return 'ASIAN'\n",
        "    elif race in hispanic:\n",
        "        return 'HISPANIC'\n",
        "    else:\n",
        "        return 'OTHER'\n",
        "\n",
        "data_to_train['race'] = data_to_train['race'].apply(simplify_race)\n"
      ],
      "metadata": {
        "id": "e-WMuFItDhIV"
      },
      "execution_count": 18,
      "outputs": []
    },
    {
      "cell_type": "code",
      "source": [
        "#모델 학습을 위해 index 초기화\n",
        "data_to_train = data_to_train.reset_index(drop = True)"
      ],
      "metadata": {
        "id": "COBnvp4JEBer"
      },
      "execution_count": 19,
      "outputs": []
    },
    {
      "cell_type": "code",
      "source": [
        "#subject_id는 제외하고 학습할 것이기에 최종적으로 제거\n",
        "data_to_train = data_to_train.drop('subject_id', axis = 1)"
      ],
      "metadata": {
        "id": "jXUk_b-YH99G"
      },
      "execution_count": 55,
      "outputs": []
    },
    {
      "cell_type": "markdown",
      "source": [
        "# Baseline Model Training & Evaluation"
      ],
      "metadata": {
        "id": "yEFfNy3EhaEx"
      }
    },
    {
      "cell_type": "markdown",
      "source": [
        "Encoding, StandardScaling & Train/Test Data Split"
      ],
      "metadata": {
        "id": "MfCzFtJfmEqR"
      }
    },
    {
      "cell_type": "code",
      "source": [
        "import pandas as pd\n",
        "from sklearn.preprocessing import OneHotEncoder, StandardScaler\n",
        "from sklearn.model_selection import train_test_split\n",
        "\n",
        "# 데이터 로딩\n",
        "# data = pd.read_csv('your_data_file.csv')\n",
        "\n",
        "# one-hot encoding\n",
        "categorical_features = ['language', 'marital_status', 'race', 'gender']\n",
        "one_hot_encoder = OneHotEncoder(drop='first', sparse=False)\n",
        "encoded_features = one_hot_encoder.fit_transform(data_to_train[categorical_features])\n",
        "encoded_df = pd.DataFrame(encoded_features, columns=one_hot_encoder.get_feature_names_out(categorical_features))\n",
        "\n",
        "# 수치형 데이터 표준화\n",
        "numerical_features = ['anchor_age', 'z_score_absolute', 'drg_severity', 'drg_mortality', 'avg_drg_severity', 'avg_drg_mortality']\n",
        "scaler = StandardScaler()\n",
        "scaled_features = scaler.fit_transform(data_to_train[numerical_features])\n",
        "scaled_df = pd.DataFrame(scaled_features, columns=numerical_features)\n",
        "\n",
        "# 데이터프레임 병합\n",
        "processed_data = pd.concat([encoded_df, scaled_df, data_to_train['is_dead']], axis=1)\n",
        "\n",
        "# 학습용, 테스트용 데이터 분리\n",
        "X = processed_data.drop('is_dead', axis=1)\n",
        "y = processed_data['is_dead']\n",
        "X_train, X_test, y_train, y_test = train_test_split(X, y, test_size=0.2, random_state=42)"
      ],
      "metadata": {
        "colab": {
          "base_uri": "https://localhost:8080/"
        },
        "id": "HBdxpkgRCYul",
        "outputId": "1bc0a118-7653-42b3-9fce-268f2e86e469"
      },
      "execution_count": 57,
      "outputs": [
        {
          "output_type": "stream",
          "name": "stderr",
          "text": [
            "/usr/local/lib/python3.10/dist-packages/sklearn/preprocessing/_encoders.py:868: FutureWarning: `sparse` was renamed to `sparse_output` in version 1.2 and will be removed in 1.4. `sparse_output` is ignored unless you leave `sparse` to its default value.\n",
            "  warnings.warn(\n"
          ]
        }
      ]
    },
    {
      "cell_type": "markdown",
      "source": [
        "기존 머신러닝 모델로 성능 평가"
      ],
      "metadata": {
        "id": "kzSe6YZqmOUl"
      }
    },
    {
      "cell_type": "code",
      "source": [
        "#기존 머신러닝모델에 대해 학습\n",
        "\n",
        "from sklearn.ensemble import RandomForestClassifier, GradientBoostingClassifier\n",
        "from sklearn.linear_model import LogisticRegression\n",
        "from sklearn.svm import SVC\n",
        "from sklearn.metrics import accuracy_score\n",
        "\n",
        "models = {\n",
        "    \"RandomForest\": RandomForestClassifier(),\n",
        "    \"GradientBoosting\": GradientBoostingClassifier(),\n",
        "    \"LogisticRegression\": LogisticRegression(max_iter=1000),\n",
        "    \"SVM\": SVC()\n",
        "}\n",
        "\n",
        "results = {}\n",
        "\n",
        "for name, model in models.items():\n",
        "    model.fit(X_train, y_train)\n",
        "    predictions = model.predict(X_test)\n",
        "    accuracy = accuracy_score(y_test, predictions)\n",
        "    results[name] = accuracy\n",
        "\n",
        "print(results)"
      ],
      "metadata": {
        "colab": {
          "base_uri": "https://localhost:8080/"
        },
        "id": "R7WlRii0CrHM",
        "outputId": "a2e2ebb0-12cc-4ae8-cb90-d1abc3299dc4"
      },
      "execution_count": 59,
      "outputs": [
        {
          "output_type": "stream",
          "name": "stdout",
          "text": [
            "{'RandomForest': 0.7959183673469388, 'GradientBoosting': 0.7974882260596546, 'LogisticRegression': 0.7551020408163265, 'SVM': 0.7660910518053375}\n"
          ]
        }
      ]
    },
    {
      "cell_type": "code",
      "source": [
        "best_model_name = max(results, key=results.get)\n",
        "print(f\"The best model is {best_model_name} with accuracy of {results[best_model_name]}\")"
      ],
      "metadata": {
        "colab": {
          "base_uri": "https://localhost:8080/"
        },
        "id": "d4pO4oHbCwYd",
        "outputId": "1d93a1fa-3f78-481d-b641-8cb7d59ef923"
      },
      "execution_count": 60,
      "outputs": [
        {
          "output_type": "stream",
          "name": "stdout",
          "text": [
            "The best model is GradientBoosting with accuracy of 0.7974882260596546\n"
          ]
        }
      ]
    },
    {
      "cell_type": "markdown",
      "source": [
        "optuna 이용하여 Neural Network 모델의 파라미터 최적화"
      ],
      "metadata": {
        "id": "9xapvBXrmSXM"
      }
    },
    {
      "cell_type": "code",
      "source": [
        "pip install optuna"
      ],
      "metadata": {
        "colab": {
          "base_uri": "https://localhost:8080/"
        },
        "id": "CnRnGC-iM-T4",
        "outputId": "79452d4e-502f-40c3-a6fe-ca50ee3ac698"
      },
      "execution_count": 61,
      "outputs": [
        {
          "output_type": "stream",
          "name": "stdout",
          "text": [
            "Collecting optuna\n",
            "  Downloading optuna-3.3.0-py3-none-any.whl (404 kB)\n",
            "\u001b[2K     \u001b[90m━━━━━━━━━━━━━━━━━━━━━━━━━━━━━━━━━━━━━━━\u001b[0m \u001b[32m404.2/404.2 kB\u001b[0m \u001b[31m6.7 MB/s\u001b[0m eta \u001b[36m0:00:00\u001b[0m\n",
            "\u001b[?25hCollecting alembic>=1.5.0 (from optuna)\n",
            "  Downloading alembic-1.12.0-py3-none-any.whl (226 kB)\n",
            "\u001b[2K     \u001b[90m━━━━━━━━━━━━━━━━━━━━━━━━━━━━━━━━━━━━━━\u001b[0m \u001b[32m226.0/226.0 kB\u001b[0m \u001b[31m18.4 MB/s\u001b[0m eta \u001b[36m0:00:00\u001b[0m\n",
            "\u001b[?25hCollecting cmaes>=0.10.0 (from optuna)\n",
            "  Downloading cmaes-0.10.0-py3-none-any.whl (29 kB)\n",
            "Collecting colorlog (from optuna)\n",
            "  Downloading colorlog-6.7.0-py2.py3-none-any.whl (11 kB)\n",
            "Requirement already satisfied: numpy in /usr/local/lib/python3.10/dist-packages (from optuna) (1.23.5)\n",
            "Requirement already satisfied: packaging>=20.0 in /usr/local/lib/python3.10/dist-packages (from optuna) (23.1)\n",
            "Requirement already satisfied: sqlalchemy>=1.3.0 in /usr/local/lib/python3.10/dist-packages (from optuna) (2.0.20)\n",
            "Requirement already satisfied: tqdm in /usr/local/lib/python3.10/dist-packages (from optuna) (4.66.1)\n",
            "Requirement already satisfied: PyYAML in /usr/local/lib/python3.10/dist-packages (from optuna) (6.0.1)\n",
            "Collecting Mako (from alembic>=1.5.0->optuna)\n",
            "  Downloading Mako-1.2.4-py3-none-any.whl (78 kB)\n",
            "\u001b[2K     \u001b[90m━━━━━━━━━━━━━━━━━━━━━━━━━━━━━━━━━━━━━━━━\u001b[0m \u001b[32m78.7/78.7 kB\u001b[0m \u001b[31m7.9 MB/s\u001b[0m eta \u001b[36m0:00:00\u001b[0m\n",
            "\u001b[?25hRequirement already satisfied: typing-extensions>=4 in /usr/local/lib/python3.10/dist-packages (from alembic>=1.5.0->optuna) (4.5.0)\n",
            "Requirement already satisfied: greenlet!=0.4.17 in /usr/local/lib/python3.10/dist-packages (from sqlalchemy>=1.3.0->optuna) (2.0.2)\n",
            "Requirement already satisfied: MarkupSafe>=0.9.2 in /usr/local/lib/python3.10/dist-packages (from Mako->alembic>=1.5.0->optuna) (2.1.3)\n",
            "Installing collected packages: Mako, colorlog, cmaes, alembic, optuna\n",
            "Successfully installed Mako-1.2.4 alembic-1.12.0 cmaes-0.10.0 colorlog-6.7.0 optuna-3.3.0\n"
          ]
        }
      ]
    },
    {
      "cell_type": "code",
      "source": [
        "#optuna를 이용해 최적의 Neural Network 모델 찾기\n",
        "\n",
        "import optuna\n",
        "from tensorflow import keras\n",
        "from tensorflow.keras import layers\n",
        "from tensorflow.keras.optimizers import Adam\n",
        "\n",
        "\n",
        "def objective(trial):\n",
        "    # 하이퍼파라미터 선택\n",
        "    lr = trial.suggest_float(\"lr\", 1e-5, 1e-2, log=True)\n",
        "    num_hidden_layers = trial.suggest_int(\"num_hidden_layers\", 1, 3)  # 1~3개의 은닉층\n",
        "    dropout_rate = trial.suggest_float(\"dropout_rate\", 0.1, 0.5, step=0.1)\n",
        "\n",
        "    model = keras.Sequential()\n",
        "    model.add(layers.Input(shape=(X_train.shape[1],)))\n",
        "\n",
        "    for i in range(num_hidden_layers):\n",
        "        num_units = trial.suggest_int(f\"num_units_layer_{i+1}\", 32, 256, step=32)\n",
        "        model.add(layers.Dense(num_units, activation='relu'))\n",
        "        model.add(layers.Dropout(dropout_rate))\n",
        "\n",
        "    model.add(layers.Dense(1, activation='sigmoid'))\n",
        "\n",
        "    # 모델 컴파일\n",
        "    optimizer = Adam(learning_rate=lr)\n",
        "    model.compile(optimizer=optimizer, loss='binary_crossentropy', metrics=['accuracy'])\n",
        "\n",
        "    # 모델 학습\n",
        "    history = model.fit(\n",
        "        X_train, y_train, epochs=50, batch_size=32,\n",
        "        validation_data=(X_test, y_test), verbose=0,\n",
        "        callbacks=[keras.callbacks.EarlyStopping(patience=5, restore_best_weights=True)]\n",
        "    )\n",
        "\n",
        "    # 검증 데이터셋에 대한 정확도 반환\n",
        "    val_accuracy = history.history[\"val_accuracy\"][-1]\n",
        "    return val_accuracy\n",
        "\n",
        "study = optuna.create_study(direction=\"maximize\")\n",
        "study.optimize(objective, n_trials=50)\n",
        "\n",
        "print(\"\\nBest hyperparameters: \", study.best_params)"
      ],
      "metadata": {
        "colab": {
          "base_uri": "https://localhost:8080/"
        },
        "id": "k-sKNrNGM28p",
        "outputId": "265da8ef-dc96-438f-8e5b-80a9b646d3a4"
      },
      "execution_count": 64,
      "outputs": [
        {
          "output_type": "stream",
          "name": "stderr",
          "text": [
            "[I 2023-09-29 15:07:37,208] A new study created in memory with name: no-name-50adf5d8-f289-4a51-bd5a-ba6b92521042\n",
            "[I 2023-09-29 15:07:54,250] Trial 0 finished with value: 0.7692307829856873 and parameters: {'lr': 0.00016144942205487264, 'num_hidden_layers': 1, 'dropout_rate': 0.5, 'num_units_layer_1': 160}. Best is trial 0 with value: 0.7692307829856873.\n",
            "[I 2023-09-29 15:08:06,891] Trial 1 finished with value: 0.7409732937812805 and parameters: {'lr': 1.1950904217157786e-05, 'num_hidden_layers': 1, 'dropout_rate': 0.4, 'num_units_layer_1': 128}. Best is trial 0 with value: 0.7692307829856873.\n",
            "[I 2023-09-29 15:08:17,065] Trial 2 finished with value: 0.7582417726516724 and parameters: {'lr': 0.00018932181115554974, 'num_hidden_layers': 3, 'dropout_rate': 0.4, 'num_units_layer_1': 96, 'num_units_layer_2': 32, 'num_units_layer_3': 128}. Best is trial 0 with value: 0.7692307829856873.\n",
            "[I 2023-09-29 15:08:28,079] Trial 3 finished with value: 0.7660910487174988 and parameters: {'lr': 0.00010577532754534101, 'num_hidden_layers': 2, 'dropout_rate': 0.2, 'num_units_layer_1': 192, 'num_units_layer_2': 64}. Best is trial 0 with value: 0.7692307829856873.\n",
            "[I 2023-09-29 15:08:33,173] Trial 4 finished with value: 0.7692307829856873 and parameters: {'lr': 0.003393304148669352, 'num_hidden_layers': 2, 'dropout_rate': 0.2, 'num_units_layer_1': 32, 'num_units_layer_2': 32}. Best is trial 0 with value: 0.7692307829856873.\n",
            "[I 2023-09-29 15:08:38,683] Trial 5 finished with value: 0.7802197933197021 and parameters: {'lr': 0.001985664534177029, 'num_hidden_layers': 3, 'dropout_rate': 0.4, 'num_units_layer_1': 192, 'num_units_layer_2': 192, 'num_units_layer_3': 256}. Best is trial 5 with value: 0.7802197933197021.\n",
            "[I 2023-09-29 15:08:51,185] Trial 6 finished with value: 0.7551020383834839 and parameters: {'lr': 0.00013386056154287513, 'num_hidden_layers': 1, 'dropout_rate': 0.1, 'num_units_layer_1': 96}. Best is trial 5 with value: 0.7802197933197021.\n",
            "[I 2023-09-29 15:09:03,816] Trial 7 finished with value: 0.7708006501197815 and parameters: {'lr': 0.00011557558214399526, 'num_hidden_layers': 3, 'dropout_rate': 0.5, 'num_units_layer_1': 256, 'num_units_layer_2': 256, 'num_units_layer_3': 96}. Best is trial 5 with value: 0.7802197933197021.\n",
            "[I 2023-09-29 15:09:17,681] Trial 8 finished with value: 0.7582417726516724 and parameters: {'lr': 0.00011565931308511123, 'num_hidden_layers': 2, 'dropout_rate': 0.2, 'num_units_layer_1': 32, 'num_units_layer_2': 64}. Best is trial 5 with value: 0.7802197933197021.\n",
            "[I 2023-09-29 15:09:24,265] Trial 9 finished with value: 0.7708006501197815 and parameters: {'lr': 0.0004926664599635533, 'num_hidden_layers': 3, 'dropout_rate': 0.4, 'num_units_layer_1': 32, 'num_units_layer_2': 224, 'num_units_layer_3': 96}. Best is trial 5 with value: 0.7802197933197021.\n",
            "[I 2023-09-29 15:09:29,787] Trial 10 finished with value: 0.7817896604537964 and parameters: {'lr': 0.007620063675573001, 'num_hidden_layers': 3, 'dropout_rate': 0.30000000000000004, 'num_units_layer_1': 256, 'num_units_layer_2': 160, 'num_units_layer_3': 256}. Best is trial 10 with value: 0.7817896604537964.\n",
            "[I 2023-09-29 15:09:34,171] Trial 11 finished with value: 0.7503924369812012 and parameters: {'lr': 0.00964930772739152, 'num_hidden_layers': 3, 'dropout_rate': 0.30000000000000004, 'num_units_layer_1': 256, 'num_units_layer_2': 160, 'num_units_layer_3': 256}. Best is trial 10 with value: 0.7817896604537964.\n",
            "[I 2023-09-29 15:09:38,143] Trial 12 finished with value: 0.7692307829856873 and parameters: {'lr': 0.0030673694371413755, 'num_hidden_layers': 3, 'dropout_rate': 0.30000000000000004, 'num_units_layer_1': 224, 'num_units_layer_2': 160, 'num_units_layer_3': 256}. Best is trial 10 with value: 0.7817896604537964.\n",
            "[I 2023-09-29 15:09:41,735] Trial 13 finished with value: 0.7582417726516724 and parameters: {'lr': 0.00729706052980698, 'num_hidden_layers': 3, 'dropout_rate': 0.4, 'num_units_layer_1': 192, 'num_units_layer_2': 192, 'num_units_layer_3': 192}. Best is trial 10 with value: 0.7817896604537964.\n",
            "[I 2023-09-29 15:09:44,819] Trial 14 finished with value: 0.7755101919174194 and parameters: {'lr': 0.0016066340720543757, 'num_hidden_layers': 2, 'dropout_rate': 0.30000000000000004, 'num_units_layer_1': 224, 'num_units_layer_2': 128}. Best is trial 10 with value: 0.7817896604537964.\n",
            "[I 2023-09-29 15:09:49,210] Trial 15 finished with value: 0.7786499261856079 and parameters: {'lr': 0.0013590876536228409, 'num_hidden_layers': 3, 'dropout_rate': 0.5, 'num_units_layer_1': 224, 'num_units_layer_2': 128, 'num_units_layer_3': 192}. Best is trial 10 with value: 0.7817896604537964.\n",
            "[I 2023-09-29 15:09:52,698] Trial 16 finished with value: 0.7739403247833252 and parameters: {'lr': 0.0051221063269095025, 'num_hidden_layers': 2, 'dropout_rate': 0.1, 'num_units_layer_1': 160, 'num_units_layer_2': 192}. Best is trial 10 with value: 0.7817896604537964.\n",
            "[I 2023-09-29 15:09:56,554] Trial 17 finished with value: 0.744113028049469 and parameters: {'lr': 0.009980434940495301, 'num_hidden_layers': 3, 'dropout_rate': 0.4, 'num_units_layer_1': 256, 'num_units_layer_2': 256, 'num_units_layer_3': 192}. Best is trial 10 with value: 0.7817896604537964.\n",
            "[I 2023-09-29 15:10:00,389] Trial 18 finished with value: 0.767660915851593 and parameters: {'lr': 0.0019102799938860416, 'num_hidden_layers': 2, 'dropout_rate': 0.30000000000000004, 'num_units_layer_1': 192, 'num_units_layer_2': 192}. Best is trial 10 with value: 0.7817896604537964.\n",
            "[I 2023-09-29 15:10:04,607] Trial 19 finished with value: 0.7739403247833252 and parameters: {'lr': 0.0007446673705608165, 'num_hidden_layers': 3, 'dropout_rate': 0.2, 'num_units_layer_1': 224, 'num_units_layer_2': 96, 'num_units_layer_3': 32}. Best is trial 10 with value: 0.7817896604537964.\n",
            "[I 2023-09-29 15:10:08,270] Trial 20 finished with value: 0.7708006501197815 and parameters: {'lr': 0.003832813810474976, 'num_hidden_layers': 2, 'dropout_rate': 0.4, 'num_units_layer_1': 128, 'num_units_layer_2': 224}. Best is trial 10 with value: 0.7817896604537964.\n",
            "[I 2023-09-29 15:10:13,443] Trial 21 finished with value: 0.767660915851593 and parameters: {'lr': 0.0013119429086799683, 'num_hidden_layers': 3, 'dropout_rate': 0.5, 'num_units_layer_1': 224, 'num_units_layer_2': 128, 'num_units_layer_3': 224}. Best is trial 10 with value: 0.7817896604537964.\n",
            "[I 2023-09-29 15:10:17,176] Trial 22 finished with value: 0.7692307829856873 and parameters: {'lr': 0.002454234165533092, 'num_hidden_layers': 3, 'dropout_rate': 0.5, 'num_units_layer_1': 192, 'num_units_layer_2': 128, 'num_units_layer_3': 192}. Best is trial 10 with value: 0.7817896604537964.\n",
            "[I 2023-09-29 15:10:21,855] Trial 23 finished with value: 0.7692307829856873 and parameters: {'lr': 0.004918604964721816, 'num_hidden_layers': 3, 'dropout_rate': 0.5, 'num_units_layer_1': 256, 'num_units_layer_2': 160, 'num_units_layer_3': 256}. Best is trial 10 with value: 0.7817896604537964.\n",
            "[I 2023-09-29 15:10:27,925] Trial 24 finished with value: 0.7755101919174194 and parameters: {'lr': 0.000958234953004099, 'num_hidden_layers': 3, 'dropout_rate': 0.4, 'num_units_layer_1': 224, 'num_units_layer_2': 96, 'num_units_layer_3': 224}. Best is trial 10 with value: 0.7817896604537964.\n",
            "[I 2023-09-29 15:10:33,234] Trial 25 finished with value: 0.7770800590515137 and parameters: {'lr': 0.0019027583053305584, 'num_hidden_layers': 3, 'dropout_rate': 0.5, 'num_units_layer_1': 160, 'num_units_layer_2': 192, 'num_units_layer_3': 224}. Best is trial 10 with value: 0.7817896604537964.\n",
            "[I 2023-09-29 15:10:37,511] Trial 26 finished with value: 0.7770800590515137 and parameters: {'lr': 0.0009646174947898347, 'num_hidden_layers': 3, 'dropout_rate': 0.30000000000000004, 'num_units_layer_1': 256, 'num_units_layer_2': 96, 'num_units_layer_3': 160}. Best is trial 10 with value: 0.7817896604537964.\n",
            "[I 2023-09-29 15:10:41,325] Trial 27 finished with value: 0.7645211815834045 and parameters: {'lr': 0.005558489956350717, 'num_hidden_layers': 2, 'dropout_rate': 0.4, 'num_units_layer_1': 192, 'num_units_layer_2': 224}. Best is trial 10 with value: 0.7817896604537964.\n",
            "[I 2023-09-29 15:10:45,791] Trial 28 finished with value: 0.772370457649231 and parameters: {'lr': 0.0027268630625470356, 'num_hidden_layers': 3, 'dropout_rate': 0.5, 'num_units_layer_1': 224, 'num_units_layer_2': 160, 'num_units_layer_3': 256}. Best is trial 10 with value: 0.7817896604537964.\n",
            "[I 2023-09-29 15:10:49,163] Trial 29 finished with value: 0.7833594679832458 and parameters: {'lr': 0.005683385466405025, 'num_hidden_layers': 1, 'dropout_rate': 0.5, 'num_units_layer_1': 160}. Best is trial 29 with value: 0.7833594679832458.\n",
            "[I 2023-09-29 15:10:52,536] Trial 30 finished with value: 0.7833594679832458 and parameters: {'lr': 0.006649278259019746, 'num_hidden_layers': 1, 'dropout_rate': 0.30000000000000004, 'num_units_layer_1': 128}. Best is trial 29 with value: 0.7833594679832458.\n",
            "[I 2023-09-29 15:10:56,186] Trial 31 finished with value: 0.7645211815834045 and parameters: {'lr': 0.00673490081328993, 'num_hidden_layers': 1, 'dropout_rate': 0.30000000000000004, 'num_units_layer_1': 96}. Best is trial 29 with value: 0.7833594679832458.\n",
            "[I 2023-09-29 15:10:58,811] Trial 32 finished with value: 0.7660910487174988 and parameters: {'lr': 0.0043088706859658625, 'num_hidden_layers': 1, 'dropout_rate': 0.30000000000000004, 'num_units_layer_1': 128}. Best is trial 29 with value: 0.7833594679832458.\n",
            "[I 2023-09-29 15:11:02,588] Trial 33 finished with value: 0.7598116397857666 and parameters: {'lr': 0.009969887388428682, 'num_hidden_layers': 1, 'dropout_rate': 0.2, 'num_units_layer_1': 160}. Best is trial 29 with value: 0.7833594679832458.\n",
            "[I 2023-09-29 15:11:05,688] Trial 34 finished with value: 0.7880690693855286 and parameters: {'lr': 0.005966012626117445, 'num_hidden_layers': 1, 'dropout_rate': 0.4, 'num_units_layer_1': 128}. Best is trial 34 with value: 0.7880690693855286.\n",
            "[I 2023-09-29 15:11:08,920] Trial 35 finished with value: 0.7692307829856873 and parameters: {'lr': 0.006043615815597245, 'num_hidden_layers': 1, 'dropout_rate': 0.2, 'num_units_layer_1': 96}. Best is trial 34 with value: 0.7880690693855286.\n",
            "[I 2023-09-29 15:11:13,100] Trial 36 finished with value: 0.7613814473152161 and parameters: {'lr': 0.0034630278443671704, 'num_hidden_layers': 1, 'dropout_rate': 0.4, 'num_units_layer_1': 64}. Best is trial 34 with value: 0.7880690693855286.\n",
            "[I 2023-09-29 15:11:16,743] Trial 37 finished with value: 0.7739403247833252 and parameters: {'lr': 0.006752492630646318, 'num_hidden_layers': 1, 'dropout_rate': 0.4, 'num_units_layer_1': 128}. Best is trial 34 with value: 0.7880690693855286.\n",
            "[I 2023-09-29 15:11:21,883] Trial 38 finished with value: 0.7645211815834045 and parameters: {'lr': 0.0041979738650838715, 'num_hidden_layers': 1, 'dropout_rate': 0.30000000000000004, 'num_units_layer_1': 64}. Best is trial 34 with value: 0.7880690693855286.\n",
            "[I 2023-09-29 15:11:24,641] Trial 39 finished with value: 0.7786499261856079 and parameters: {'lr': 0.0036435866800492212, 'num_hidden_layers': 1, 'dropout_rate': 0.2, 'num_units_layer_1': 160}. Best is trial 34 with value: 0.7880690693855286.\n",
            "[I 2023-09-29 15:11:29,292] Trial 40 finished with value: 0.7629513144493103 and parameters: {'lr': 0.002538770143742287, 'num_hidden_layers': 1, 'dropout_rate': 0.4, 'num_units_layer_1': 64}. Best is trial 34 with value: 0.7880690693855286.\n",
            "[I 2023-09-29 15:11:33,555] Trial 41 finished with value: 0.7566719055175781 and parameters: {'lr': 0.0076416037268400745, 'num_hidden_layers': 1, 'dropout_rate': 0.30000000000000004, 'num_units_layer_1': 128}. Best is trial 34 with value: 0.7880690693855286.\n",
            "[I 2023-09-29 15:11:37,609] Trial 42 finished with value: 0.7708006501197815 and parameters: {'lr': 0.00649123041676967, 'num_hidden_layers': 1, 'dropout_rate': 0.5, 'num_units_layer_1': 128}. Best is trial 34 with value: 0.7880690693855286.\n",
            "[I 2023-09-29 15:11:41,244] Trial 43 finished with value: 0.7456828951835632 and parameters: {'lr': 0.004730840751364498, 'num_hidden_layers': 2, 'dropout_rate': 0.4, 'num_units_layer_1': 160, 'num_units_layer_2': 224}. Best is trial 34 with value: 0.7880690693855286.\n",
            "[I 2023-09-29 15:11:45,411] Trial 44 finished with value: 0.7817896604537964 and parameters: {'lr': 0.0024570218952830883, 'num_hidden_layers': 1, 'dropout_rate': 0.4, 'num_units_layer_1': 96}. Best is trial 34 with value: 0.7880690693855286.\n",
            "[I 2023-09-29 15:11:48,993] Trial 45 finished with value: 0.7660910487174988 and parameters: {'lr': 0.002691977158583179, 'num_hidden_layers': 1, 'dropout_rate': 0.4, 'num_units_layer_1': 96}. Best is trial 34 with value: 0.7880690693855286.\n",
            "[I 2023-09-29 15:11:52,355] Trial 46 finished with value: 0.772370457649231 and parameters: {'lr': 0.008343831867526528, 'num_hidden_layers': 1, 'dropout_rate': 0.30000000000000004, 'num_units_layer_1': 64}. Best is trial 34 with value: 0.7880690693855286.\n",
            "[I 2023-09-29 15:11:57,144] Trial 47 finished with value: 0.7755101919174194 and parameters: {'lr': 0.005306142051349619, 'num_hidden_layers': 1, 'dropout_rate': 0.5, 'num_units_layer_1': 96}. Best is trial 34 with value: 0.7880690693855286.\n",
            "[I 2023-09-29 15:12:00,270] Trial 48 finished with value: 0.7755101919174194 and parameters: {'lr': 0.003140729431130936, 'num_hidden_layers': 1, 'dropout_rate': 0.4, 'num_units_layer_1': 128}. Best is trial 34 with value: 0.7880690693855286.\n",
            "[I 2023-09-29 15:12:03,127] Trial 49 finished with value: 0.7598116397857666 and parameters: {'lr': 0.007599184627261146, 'num_hidden_layers': 2, 'dropout_rate': 0.1, 'num_units_layer_1': 96, 'num_units_layer_2': 32}. Best is trial 34 with value: 0.7880690693855286.\n"
          ]
        },
        {
          "output_type": "stream",
          "name": "stdout",
          "text": [
            "\n",
            "Best hyperparameters:  {'lr': 0.005966012626117445, 'num_hidden_layers': 1, 'dropout_rate': 0.4, 'num_units_layer_1': 128}\n"
          ]
        }
      ]
    },
    {
      "cell_type": "code",
      "source": [
        "# Optuna의 최적의 하이퍼파라미터. 개인적인 선호 및 MAML 적용을 위해 비슷한 성능 중 은닉층의 개수가 3개인 것을 선택함.\n",
        "best_params = {'lr': 0.007620063675573001, 'num_hidden_layers': 3, 'dropout_rate': 0.30000000000000004, 'num_units_layer_1': 256, 'num_units_layer_2': 160, 'num_units_layer_3': 256}\n",
        "\n",
        "# 모델 구성\n",
        "model = keras.Sequential()\n",
        "model.add(layers.Input(shape=(X_train.shape[1],)))\n",
        "\n",
        "for i in range(best_params[\"num_hidden_layers\"]):\n",
        "    num_units = best_params[f\"num_units_layer_{i+1}\"]\n",
        "    model.add(layers.Dense(num_units, activation='relu'))\n",
        "    model.add(layers.Dropout(best_params[\"dropout_rate\"]))\n",
        "\n",
        "model.add(layers.Dense(1, activation='sigmoid'))\n",
        "\n",
        "# 모델 컴파일\n",
        "optimizer = Adam(learning_rate=best_params[\"lr\"])\n",
        "model.compile(optimizer=optimizer, loss='binary_crossentropy', metrics=['accuracy'])\n",
        "\n",
        "# 모델 학습\n",
        "history = model.fit(\n",
        "    X_train, y_train, epochs=100, batch_size=32,\n",
        "    validation_data=(X_test, y_test),\n",
        "    callbacks=[keras.callbacks.EarlyStopping(patience=10, restore_best_weights=True)]\n",
        ")\n",
        "\n",
        "# 학습 성과 출력\n",
        "final_accuracy = history.history[\"val_accuracy\"][-1]\n",
        "print(f\"Final Validation Accuracy with Best Hyperparameters: {final_accuracy:.4f}\")"
      ],
      "metadata": {
        "colab": {
          "base_uri": "https://localhost:8080/"
        },
        "id": "wMl65B1IQAaG",
        "outputId": "e871d469-a125-4fe8-c528-a1f83938fa21"
      },
      "execution_count": 69,
      "outputs": [
        {
          "output_type": "stream",
          "name": "stdout",
          "text": [
            "Epoch 1/100\n",
            "80/80 [==============================] - 2s 6ms/step - loss: 0.5295 - accuracy: 0.7336 - val_loss: 0.4634 - val_accuracy: 0.7598\n",
            "Epoch 2/100\n",
            "80/80 [==============================] - 0s 4ms/step - loss: 0.5001 - accuracy: 0.7607 - val_loss: 0.4903 - val_accuracy: 0.7284\n",
            "Epoch 3/100\n",
            "80/80 [==============================] - 0s 4ms/step - loss: 0.5013 - accuracy: 0.7517 - val_loss: 0.4816 - val_accuracy: 0.7488\n",
            "Epoch 4/100\n",
            "80/80 [==============================] - 0s 4ms/step - loss: 0.5106 - accuracy: 0.7536 - val_loss: 0.4788 - val_accuracy: 0.7645\n",
            "Epoch 5/100\n",
            "80/80 [==============================] - 0s 4ms/step - loss: 0.4881 - accuracy: 0.7607 - val_loss: 0.4807 - val_accuracy: 0.7614\n",
            "Epoch 6/100\n",
            "80/80 [==============================] - 0s 4ms/step - loss: 0.4926 - accuracy: 0.7540 - val_loss: 0.4699 - val_accuracy: 0.7661\n",
            "Epoch 7/100\n",
            "80/80 [==============================] - 0s 4ms/step - loss: 0.4982 - accuracy: 0.7599 - val_loss: 0.4663 - val_accuracy: 0.7410\n",
            "Epoch 8/100\n",
            "80/80 [==============================] - 0s 4ms/step - loss: 0.4972 - accuracy: 0.7583 - val_loss: 0.4752 - val_accuracy: 0.7614\n",
            "Epoch 9/100\n",
            "80/80 [==============================] - 0s 4ms/step - loss: 0.4965 - accuracy: 0.7509 - val_loss: 0.4928 - val_accuracy: 0.7677\n",
            "Epoch 10/100\n",
            "80/80 [==============================] - 0s 4ms/step - loss: 0.4869 - accuracy: 0.7678 - val_loss: 0.4782 - val_accuracy: 0.7520\n",
            "Epoch 11/100\n",
            "80/80 [==============================] - 0s 4ms/step - loss: 0.4873 - accuracy: 0.7635 - val_loss: 0.4663 - val_accuracy: 0.7755\n",
            "Final Validation Accuracy with Best Hyperparameters: 0.7755\n"
          ]
        }
      ]
    },
    {
      "cell_type": "markdown",
      "source": [
        "# MAML"
      ],
      "metadata": {
        "id": "wiHBLu-CTjJu"
      }
    },
    {
      "cell_type": "code",
      "source": [
        "best_params = {'lr': 0.007620063675573001, 'num_hidden_layers': 3, 'dropout_rate': 0.30000000000000004, 'num_units_layer_1': 256, 'num_units_layer_2': 160, 'num_units_layer_3': 256}"
      ],
      "metadata": {
        "id": "HblQY0LyVv3g"
      },
      "execution_count": 70,
      "outputs": []
    },
    {
      "cell_type": "markdown",
      "source": [
        "Gaussian Mixture Model을 이용하여 주어진 데이터셋을 상호 유사한 Task Set 10개로 분리. 이미 수치형 데이터에 대해서 Standard Scaling을 수행했기 때문에 효과적일 것으로 판단함."
      ],
      "metadata": {
        "id": "CLDPU_12mlZ9"
      }
    },
    {
      "cell_type": "code",
      "source": [
        "from sklearn.mixture import GaussianMixture\n",
        "\n",
        "# Gaussian Mixture Model로 태스크 분리\n",
        "gmm = GaussianMixture(n_components=10, random_state=42)\n",
        "clusters = gmm.fit_predict(processed_data.drop('is_dead', axis=1))\n",
        "processed_data['cluster'] = clusters"
      ],
      "metadata": {
        "id": "cKfIp6pmzouf"
      },
      "execution_count": 72,
      "outputs": []
    },
    {
      "cell_type": "code",
      "source": [
        "import os\n",
        "import torch\n",
        "import numpy as np\n",
        "from torch import nn, optim\n",
        "from torch.utils.data import Dataset, DataLoader\n",
        "from sklearn.cluster import KMeans\n",
        "from sklearn.model_selection import train_test_split\n",
        "\n",
        "\n",
        "# 데이터 로딩 클래스\n",
        "class DiseaseDataset(Dataset):\n",
        "    def __init__(self, dataframe, features, target):\n",
        "        self.features = dataframe[features].values\n",
        "        self.target = dataframe[target].values\n",
        "\n",
        "    def __len__(self):\n",
        "        return len(self.features)\n",
        "\n",
        "    def __getitem__(self, idx):\n",
        "        return torch.tensor(self.features[idx], dtype=torch.float32), torch.tensor(self.target[idx], dtype=torch.float32)\n",
        "\n",
        "#모델 구조 정의 (이전에 정의한 best_param을 기반으로)\n",
        "class SimpleModel(nn.Module):\n",
        "    def __init__(self, input_size, params):\n",
        "        super(SimpleModel, self).__init__()\n",
        "\n",
        "        layers = []\n",
        "        layers.append(nn.Linear(input_size, params['num_units_layer_1']))\n",
        "        layers.append(nn.ReLU())\n",
        "        layers.append(nn.Dropout(params['dropout_rate']))\n",
        "\n",
        "        if params['num_hidden_layers'] > 1:\n",
        "            layers.append(nn.Linear(params['num_units_layer_1'], params['num_units_layer_2']))\n",
        "            layers.append(nn.ReLU())\n",
        "            layers.append(nn.Dropout(params['dropout_rate']))\n",
        "\n",
        "        if params['num_hidden_layers'] > 2:\n",
        "            layers.append(nn.Linear(params['num_units_layer_2'], params['num_units_layer_3']))\n",
        "            layers.append(nn.ReLU())\n",
        "            layers.append(nn.Dropout(params['dropout_rate']))\n",
        "\n",
        "            # Last layer\n",
        "            layers.append(nn.Linear(params['num_units_layer_3'], 1))\n",
        "        elif params['num_hidden_layers'] == 2:\n",
        "            # Last layer\n",
        "            layers.append(nn.Linear(params['num_units_layer_2'], 1))\n",
        "        else:\n",
        "            # Last layer\n",
        "            layers.append(nn.Linear(params['num_units_layer_1'], 1))\n",
        "\n",
        "        self.fc = nn.Sequential(*layers)\n",
        "\n",
        "    def forward(self, x):\n",
        "      return self.fc(x).squeeze(1)\n",
        "\n",
        "\n",
        "# 손실 함수\n",
        "loss_function = nn.BCEWithLogitsLoss()\n",
        "\n",
        "# 데이터 로더 및 태스크 데이터 생성\n",
        "tasks_data = []\n",
        "for cluster_idx in range(10):\n",
        "    task_data = processed_data[processed_data['cluster'] == cluster_idx]\n",
        "\n",
        "    # 컬럼에서 'is_dead'와 'cluster'을 제외한 나머지를 특성으로 사용\n",
        "    feature_cols = list(processed_data.columns[:-2])\n",
        "    target_col = 'is_dead'\n",
        "\n",
        "    train_data, val_data = train_test_split(task_data, test_size=0.2, random_state=42)\n",
        "    train_dataset = DiseaseDataset(train_data, feature_cols, target_col)\n",
        "    val_dataset = DiseaseDataset(val_data, feature_cols, target_col)\n",
        "\n",
        "    train_loader = DataLoader(train_dataset, batch_size=32, shuffle=True)\n",
        "    val_loader = DataLoader(val_dataset, batch_size=32, shuffle=False)\n",
        "\n",
        "    tasks_data.append({\n",
        "        'train': next(iter(train_loader)),\n",
        "        'val': next(iter(val_loader))\n",
        "    })\n",
        "\n",
        "# MAML 학습\n",
        "def maml(model, tasks_data, num_adaptation_steps=1, task_lr=1e-2, meta_lr=1e-3, num_epochs=50, checkpoint_dir='checkpoints', log_interval=10):\n",
        "    if not os.path.exists(checkpoint_dir):\n",
        "        os.makedirs(checkpoint_dir)\n",
        "\n",
        "    meta_optimizer = optim.Adam(model.parameters(), lr=meta_lr)\n",
        "\n",
        "    for epoch in range(num_epochs):\n",
        "        epoch_losses = []\n",
        "        meta_grads = []\n",
        "\n",
        "        for task_data in tasks_data:\n",
        "            # Adaptation step\n",
        "            #task_model = SimpleModel(processed_data.shape[1] - 2)\n",
        "            task_model = SimpleModel(processed_data.shape[1] - 2, best_params)\n",
        "            task_model.load_state_dict(model.state_dict())\n",
        "            task_optimizer = optim.SGD(task_model.parameters(), lr=task_lr)\n",
        "\n",
        "            for step in range(num_adaptation_steps):\n",
        "                train_output = task_model(task_data['train'][0])\n",
        "                train_loss = loss_function(train_output, task_data['train'][1])\n",
        "                task_optimizer.zero_grad()\n",
        "                train_loss.backward()\n",
        "                task_optimizer.step()\n",
        "\n",
        "            val_output = task_model(task_data['val'][0])\n",
        "            val_loss = loss_function(val_output, task_data['val'][1])\n",
        "            grads = torch.autograd.grad(val_loss, task_model.parameters())\n",
        "            meta_grads.append(grads)\n",
        "            epoch_losses.append(val_loss.item())\n",
        "\n",
        "        for meta_params, grads in zip(model.parameters(), zip(*meta_grads)):\n",
        "            meta_params.grad = torch.stack(grads).mean(dim=0)\n",
        "\n",
        "        meta_optimizer.step()\n",
        "\n",
        "        if epoch % log_interval == 0:\n",
        "            avg_loss = np.mean(epoch_losses)\n",
        "            print(f\"Epoch {epoch}/{num_epochs}, Average Loss: {avg_loss:.4f}\")\n",
        "\n",
        "# MAML 학습 실행 (task_lr 및 meta_lr은 이전에 optima로 최적화한 파라미터.)\n",
        "model = SimpleModel(processed_data.shape[1] - 2, best_params)\n",
        "maml(model, tasks_data, num_adaptation_steps=2, task_lr = 3.203939303955916e-05, meta_lr = 0.0008161438495239411, num_epochs=500, checkpoint_dir='checkpoints', log_interval=10)"
      ],
      "metadata": {
        "id": "NlJV2-0fTiv8",
        "colab": {
          "base_uri": "https://localhost:8080/"
        },
        "outputId": "0171518f-45c8-44b1-c0d3-74970508044e"
      },
      "execution_count": 77,
      "outputs": [
        {
          "output_type": "stream",
          "name": "stdout",
          "text": [
            "Epoch 0/500, Average Loss: 0.6997\n",
            "Epoch 10/500, Average Loss: 0.5354\n",
            "Epoch 20/500, Average Loss: 0.3852\n",
            "Epoch 30/500, Average Loss: 0.3396\n",
            "Epoch 40/500, Average Loss: 0.2889\n",
            "Epoch 50/500, Average Loss: 0.2434\n",
            "Epoch 60/500, Average Loss: 0.2047\n",
            "Epoch 70/500, Average Loss: 0.1823\n",
            "Epoch 80/500, Average Loss: 0.1644\n",
            "Epoch 90/500, Average Loss: 0.1304\n",
            "Epoch 100/500, Average Loss: 0.1113\n",
            "Epoch 110/500, Average Loss: 0.0976\n",
            "Epoch 120/500, Average Loss: 0.0643\n",
            "Epoch 130/500, Average Loss: 0.0739\n",
            "Epoch 140/500, Average Loss: 0.0654\n",
            "Epoch 150/500, Average Loss: 0.0372\n",
            "Epoch 160/500, Average Loss: 0.0451\n",
            "Epoch 170/500, Average Loss: 0.0367\n",
            "Epoch 180/500, Average Loss: 0.0220\n",
            "Epoch 190/500, Average Loss: 0.0385\n",
            "Epoch 200/500, Average Loss: 0.0293\n",
            "Epoch 210/500, Average Loss: 0.0148\n",
            "Epoch 220/500, Average Loss: 0.0155\n",
            "Epoch 230/500, Average Loss: 0.0176\n",
            "Epoch 240/500, Average Loss: 0.0139\n",
            "Epoch 250/500, Average Loss: 0.0219\n",
            "Epoch 260/500, Average Loss: 0.0108\n",
            "Epoch 270/500, Average Loss: 0.0114\n",
            "Epoch 280/500, Average Loss: 0.0066\n",
            "Epoch 290/500, Average Loss: 0.0107\n",
            "Epoch 300/500, Average Loss: 0.0108\n",
            "Epoch 310/500, Average Loss: 0.0094\n",
            "Epoch 320/500, Average Loss: 0.0042\n",
            "Epoch 330/500, Average Loss: 0.0085\n",
            "Epoch 340/500, Average Loss: 0.0025\n",
            "Epoch 350/500, Average Loss: 0.0036\n",
            "Epoch 360/500, Average Loss: 0.0078\n",
            "Epoch 370/500, Average Loss: 0.0119\n",
            "Epoch 380/500, Average Loss: 0.0054\n",
            "Epoch 390/500, Average Loss: 0.0075\n",
            "Epoch 400/500, Average Loss: 0.0041\n",
            "Epoch 410/500, Average Loss: 0.0036\n",
            "Epoch 420/500, Average Loss: 0.0031\n",
            "Epoch 430/500, Average Loss: 0.0031\n",
            "Epoch 440/500, Average Loss: 0.0015\n",
            "Epoch 450/500, Average Loss: 0.0075\n",
            "Epoch 460/500, Average Loss: 0.0122\n",
            "Epoch 470/500, Average Loss: 0.0044\n",
            "Epoch 480/500, Average Loss: 0.0032\n",
            "Epoch 490/500, Average Loss: 0.0042\n"
          ]
        }
      ]
    },
    {
      "cell_type": "code",
      "source": [
        "#maml_model 예측 정확도 평가 함수\n",
        "\n",
        "def evaluate_maml_model(model, tasks_data, params, num_adaptation_steps=1, task_lr=1e-2):\n",
        "    accuracies = []\n",
        "\n",
        "    for task_data in tasks_data:\n",
        "        # Adaptation step\n",
        "        task_model = SimpleModel(processed_data.shape[1] - 2, params)\n",
        "        task_model.load_state_dict(model.state_dict())\n",
        "        task_optimizer = optim.SGD(task_model.parameters(), lr=task_lr)\n",
        "\n",
        "        for step in range(num_adaptation_steps):\n",
        "            train_output = task_model(task_data['train'][0])\n",
        "            train_loss = loss_function(train_output, task_data['train'][1])\n",
        "            task_optimizer.zero_grad()\n",
        "            train_loss.backward()\n",
        "            task_optimizer.step()\n",
        "\n",
        "        # Evaluate on validation data\n",
        "        val_output = task_model(task_data['val'][0])\n",
        "        val_predictions = torch.sigmoid(val_output) > 0.5\n",
        "        corrects = (val_predictions == task_data['val'][1].bool()).sum().item()\n",
        "        accuracy = corrects / len(task_data['val'][1])\n",
        "        accuracies.append(accuracy)\n",
        "\n",
        "    return np.mean(accuracies)\n",
        "\n",
        "# 평가 수행\n",
        "mean_accuracy = evaluate_maml_model(model, tasks_data, best_params)\n",
        "print(f\"Mean Accuracy across tasks: {mean_accuracy:.4f}\")\n"
      ],
      "metadata": {
        "colab": {
          "base_uri": "https://localhost:8080/"
        },
        "id": "M1dMW6pYWm5_",
        "outputId": "64cf7754-8928-4bcb-ea63-6ab69e8e4c43"
      },
      "execution_count": 78,
      "outputs": [
        {
          "output_type": "stream",
          "name": "stdout",
          "text": [
            "Mean Accuracy across tasks: 1.0000\n"
          ]
        }
      ]
    },
    {
      "cell_type": "code",
      "source": [
        "import numpy as np\n",
        "import matplotlib.pyplot as plt\n",
        "import seaborn as sns\n",
        "\n",
        "# 데이터 생성\n",
        "acc_list = [evaluate_maml_model(model, tasks_data, best_params) for _ in range(100)]\n",
        "\n",
        "# 그래프 스타일 설정\n",
        "sns.set_style(\"whitegrid\")  # 배경에 그리드 추가\n",
        "plt.figure(figsize=(10, 6))  # 그래프 크기 설정\n",
        "\n",
        "# 히스토그램 그리기\n",
        "sns.histplot(acc_list, kde=True, color=\"dodgerblue\", bins=20)\n",
        "plt.axvline(np.mean(acc_list), color='k', linestyle='dashed', linewidth=1)  # 평균값 선 추가\n",
        "\n",
        "# 제목 및 레이블 추가\n",
        "plt.title(\"Distribution of Model Accuracy over 100 Evaluations\", fontsize=16)\n",
        "plt.xlabel(\"Accuracy\", fontsize=14)\n",
        "plt.ylabel(\"Frequency\", fontsize=14)\n",
        "plt.legend({f'Mean accuracy: {np.mean(acc_list):.4f}':np.mean(acc_list)})  # 범례 추가\n",
        "\n",
        "# 결과 표시\n",
        "plt.tight_layout()\n",
        "plt.show()\n",
        "\n",
        "print(f\"Mean Accuracy: {np.mean(acc_list):.4f}\")\n",
        "print(f\"Standard Deviation: {np.std(acc_list):.4f}\")"
      ],
      "metadata": {
        "colab": {
          "base_uri": "https://localhost:8080/",
          "height": 663
        },
        "id": "n5uhNHb-ZbcO",
        "outputId": "84856989-260b-43ff-8bc2-f4a1a2b35f44"
      },
      "execution_count": 118,
      "outputs": [
        {
          "output_type": "display_data",
          "data": {
            "text/plain": [
              "<Figure size 1000x600 with 1 Axes>"
            ],
            "image/png": "[encoded data removed]"
          },
          "metadata": {}
        },
        {
          "output_type": "stream",
          "name": "stdout",
          "text": [
            "Mean Accuracy: 0.9983\n",
            "Standard Deviation: 0.0029\n"
          ]
        }
      ]
    },
    {
      "cell_type": "markdown",
      "source": [
        "## Parameter Optimization (If necessary)"
      ],
      "metadata": {
        "id": "Lkv-s5Vld30v"
      }
    },
    {
      "cell_type": "markdown",
      "source": [
        "해당은 필요 시 사용 가능하다. 현재는 사용하지 않음."
      ],
      "metadata": {
        "id": "FglqerF9tV9-"
      }
    },
    {
      "cell_type": "code",
      "source": [
        "import optuna\n",
        "\n",
        "# 목적 함수 정의\n",
        "def objective(trial):\n",
        "    # 하이퍼파라미터 후보 값 설정\n",
        "    task_lr = trial.suggest_float(\"task_lr\", 1e-6, 1e-4, log=True)\n",
        "    meta_lr = trial.suggest_float(\"meta_lr\", 1e-5, 1e-3, log=True)\n",
        "    num_adaptation_steps = trial.suggest_int(\"num_adaptation_steps\", 1, 5)\n",
        "\n",
        "    # 모델 생성 및 학습\n",
        "    model = SimpleModel(processed_data.shape[1] - 2, best_params)\n",
        "    maml(model, tasks_data, num_adaptation_steps=num_adaptation_steps, task_lr=task_lr, meta_lr=meta_lr, num_epochs=500, checkpoint_dir='checkpoints', log_interval=100)\n",
        "\n",
        "    # 검증 데이터에서 성능 평가\n",
        "    accuracy = evaluate_maml_model(model, tasks_data, best_params)\n",
        "\n",
        "    # 정확도 반환\n",
        "    return accuracy\n",
        "\n",
        "# Optuna를 사용하여 최적의 하이퍼파라미터 찾기\n",
        "study = optuna.create_study(direction=\"maximize\")\n",
        "study.optimize(objective, n_trials=50)\n",
        "\n",
        "# 결과 출력\n",
        "print(f\"Best hyperparameters: {study.best_params}\")"
      ],
      "metadata": {
        "colab": {
          "base_uri": "https://localhost:8080/"
        },
        "id": "jcHtqQR7d50M",
        "outputId": "bce44911-5e37-4f28-e591-066da755afe6"
      },
      "execution_count": null,
      "outputs": [
        {
          "output_type": "stream",
          "name": "stderr",
          "text": [
            "[I 2023-09-29 07:46:56,834] A new study created in memory with name: no-name-505f7b58-19b8-4999-8396-8d9b314ba21a\n"
          ]
        },
        {
          "output_type": "stream",
          "name": "stdout",
          "text": [
            "Epoch 0/500, Average Loss: 0.6951\n",
            "Epoch 100/500, Average Loss: 0.6433\n",
            "Epoch 200/500, Average Loss: 0.6036\n",
            "Epoch 300/500, Average Loss: 0.5658\n",
            "Epoch 400/500, Average Loss: 0.5447\n"
          ]
        },
        {
          "output_type": "stream",
          "name": "stderr",
          "text": [
            "[I 2023-09-29 07:47:28,848] Trial 0 finished with value: 0.7 and parameters: {'task_lr': 1.886670751476358e-05, 'meta_lr': 5.3522712621413106e-05, 'num_adaptation_steps': 3}. Best is trial 0 with value: 0.7.\n"
          ]
        },
        {
          "output_type": "stream",
          "name": "stdout",
          "text": [
            "Epoch 0/500, Average Loss: 0.6946\n",
            "Epoch 100/500, Average Loss: 0.5083\n",
            "Epoch 200/500, Average Loss: 0.4789\n",
            "Epoch 300/500, Average Loss: 0.4606\n",
            "Epoch 400/500, Average Loss: 0.3792\n"
          ]
        },
        {
          "output_type": "stream",
          "name": "stderr",
          "text": [
            "[I 2023-09-29 07:48:07,179] Trial 1 finished with value: 0.821875 and parameters: {'task_lr': 1.7666531408935878e-05, 'meta_lr': 0.0005926237127519462, 'num_adaptation_steps': 4}. Best is trial 1 with value: 0.821875.\n"
          ]
        },
        {
          "output_type": "stream",
          "name": "stdout",
          "text": [
            "Epoch 0/500, Average Loss: 0.6966\n",
            "Epoch 100/500, Average Loss: 0.6714\n",
            "Epoch 200/500, Average Loss: 0.6465\n",
            "Epoch 300/500, Average Loss: 0.6270\n",
            "Epoch 400/500, Average Loss: 0.5994\n"
          ]
        },
        {
          "output_type": "stream",
          "name": "stderr",
          "text": [
            "[I 2023-09-29 07:48:44,065] Trial 2 finished with value: 0.6875 and parameters: {'task_lr': 2.5687105157541556e-05, 'meta_lr': 2.5084689267069492e-05, 'num_adaptation_steps': 4}. Best is trial 1 with value: 0.821875.\n"
          ]
        },
        {
          "output_type": "stream",
          "name": "stdout",
          "text": [
            "Epoch 0/500, Average Loss: 0.7037\n",
            "Epoch 100/500, Average Loss: 0.6174\n",
            "Epoch 200/500, Average Loss: 0.5710\n",
            "Epoch 300/500, Average Loss: 0.5411\n",
            "Epoch 400/500, Average Loss: 0.5211\n"
          ]
        },
        {
          "output_type": "stream",
          "name": "stderr",
          "text": [
            "[I 2023-09-29 07:49:08,905] Trial 3 finished with value: 0.70625 and parameters: {'task_lr': 1.6533715769133126e-06, 'meta_lr': 9.55639791586404e-05, 'num_adaptation_steps': 2}. Best is trial 1 with value: 0.821875.\n"
          ]
        },
        {
          "output_type": "stream",
          "name": "stdout",
          "text": [
            "Epoch 0/500, Average Loss: 0.6908\n",
            "Epoch 100/500, Average Loss: 0.4848\n",
            "Epoch 200/500, Average Loss: 0.4159\n",
            "Epoch 300/500, Average Loss: 0.3939\n",
            "Epoch 400/500, Average Loss: 0.3333\n"
          ]
        },
        {
          "output_type": "stream",
          "name": "stderr",
          "text": [
            "[I 2023-09-29 07:49:50,865] Trial 4 finished with value: 0.8375 and parameters: {'task_lr': 2.4908629815578665e-06, 'meta_lr': 0.000982535887955168, 'num_adaptation_steps': 5}. Best is trial 4 with value: 0.8375.\n"
          ]
        },
        {
          "output_type": "stream",
          "name": "stdout",
          "text": [
            "Epoch 0/500, Average Loss: 0.7048\n",
            "Epoch 100/500, Average Loss: 0.6638\n",
            "Epoch 200/500, Average Loss: 0.6445\n",
            "Epoch 300/500, Average Loss: 0.6330\n",
            "Epoch 400/500, Average Loss: 0.5989\n"
          ]
        },
        {
          "output_type": "stream",
          "name": "stderr",
          "text": [
            "[I 2023-09-29 07:50:32,631] Trial 5 finished with value: 0.68125 and parameters: {'task_lr': 8.314495656605927e-05, 'meta_lr': 2.8944620485751005e-05, 'num_adaptation_steps': 5}. Best is trial 4 with value: 0.8375.\n"
          ]
        },
        {
          "output_type": "stream",
          "name": "stdout",
          "text": [
            "Epoch 0/500, Average Loss: 0.6858\n",
            "Epoch 100/500, Average Loss: 0.5888\n",
            "Epoch 200/500, Average Loss: 0.5443\n",
            "Epoch 300/500, Average Loss: 0.5293\n",
            "Epoch 400/500, Average Loss: 0.5310\n"
          ]
        },
        {
          "output_type": "stream",
          "name": "stderr",
          "text": [
            "[I 2023-09-29 07:51:09,963] Trial 6 finished with value: 0.7375 and parameters: {'task_lr': 1.9465335808911793e-05, 'meta_lr': 0.00011946763774909319, 'num_adaptation_steps': 4}. Best is trial 4 with value: 0.8375.\n"
          ]
        },
        {
          "output_type": "stream",
          "name": "stdout",
          "text": [
            "Epoch 0/500, Average Loss: 0.6974\n",
            "Epoch 100/500, Average Loss: 0.5047\n",
            "Epoch 200/500, Average Loss: 0.4837\n",
            "Epoch 300/500, Average Loss: 0.4771\n",
            "Epoch 400/500, Average Loss: 0.4367\n"
          ]
        },
        {
          "output_type": "stream",
          "name": "stderr",
          "text": [
            "[I 2023-09-29 07:51:29,219] Trial 7 finished with value: 0.75 and parameters: {'task_lr': 7.06770951986716e-06, 'meta_lr': 0.00036217678629362545, 'num_adaptation_steps': 1}. Best is trial 4 with value: 0.8375.\n"
          ]
        },
        {
          "output_type": "stream",
          "name": "stdout",
          "text": [
            "Epoch 0/500, Average Loss: 0.7012\n",
            "Epoch 100/500, Average Loss: 0.6006\n",
            "Epoch 200/500, Average Loss: 0.5298\n",
            "Epoch 300/500, Average Loss: 0.5145\n",
            "Epoch 400/500, Average Loss: 0.5167\n"
          ]
        },
        {
          "output_type": "stream",
          "name": "stderr",
          "text": [
            "[I 2023-09-29 07:51:47,821] Trial 8 finished with value: 0.73125 and parameters: {'task_lr': 1.4863316702050252e-05, 'meta_lr': 0.0001291031317169083, 'num_adaptation_steps': 1}. Best is trial 4 with value: 0.8375.\n"
          ]
        },
        {
          "output_type": "stream",
          "name": "stdout",
          "text": [
            "Epoch 0/500, Average Loss: 0.6804\n",
            "Epoch 100/500, Average Loss: 0.4437\n",
            "Epoch 200/500, Average Loss: 0.4339\n",
            "Epoch 300/500, Average Loss: 0.3637\n",
            "Epoch 400/500, Average Loss: 0.3585\n"
          ]
        },
        {
          "output_type": "stream",
          "name": "stderr",
          "text": [
            "[I 2023-09-29 07:52:06,871] Trial 9 finished with value: 0.903125 and parameters: {'task_lr': 1.5811305439438314e-06, 'meta_lr': 0.0009934465490366903, 'num_adaptation_steps': 1}. Best is trial 9 with value: 0.903125.\n"
          ]
        },
        {
          "output_type": "stream",
          "name": "stdout",
          "text": [
            "Epoch 0/500, Average Loss: 0.6990\n",
            "Epoch 100/500, Average Loss: 0.5024\n",
            "Epoch 200/500, Average Loss: 0.4788\n",
            "Epoch 300/500, Average Loss: 0.4451\n",
            "Epoch 400/500, Average Loss: 0.4404\n"
          ]
        },
        {
          "output_type": "stream",
          "name": "stderr",
          "text": [
            "[I 2023-09-29 07:52:31,337] Trial 10 finished with value: 0.790625 and parameters: {'task_lr': 1.045103755917374e-06, 'meta_lr': 0.0004632087661483208, 'num_adaptation_steps': 2}. Best is trial 9 with value: 0.903125.\n"
          ]
        },
        {
          "output_type": "stream",
          "name": "stdout",
          "text": [
            "Epoch 0/500, Average Loss: 0.6866\n",
            "Epoch 100/500, Average Loss: 0.4916\n",
            "Epoch 200/500, Average Loss: 0.4493\n",
            "Epoch 300/500, Average Loss: 0.3919\n",
            "Epoch 400/500, Average Loss: 0.3575\n"
          ]
        },
        {
          "output_type": "stream",
          "name": "stderr",
          "text": [
            "[I 2023-09-29 07:53:13,254] Trial 11 finished with value: 0.85625 and parameters: {'task_lr': 2.2777946189510776e-06, 'meta_lr': 0.0009748542635230035, 'num_adaptation_steps': 5}. Best is trial 9 with value: 0.903125.\n"
          ]
        },
        {
          "output_type": "stream",
          "name": "stdout",
          "text": [
            "Epoch 0/500, Average Loss: 0.6984\n",
            "Epoch 100/500, Average Loss: 0.4911\n",
            "Epoch 200/500, Average Loss: 0.4360\n",
            "Epoch 300/500, Average Loss: 0.3841\n",
            "Epoch 400/500, Average Loss: 0.2940\n"
          ]
        },
        {
          "output_type": "stream",
          "name": "stderr",
          "text": [
            "[I 2023-09-29 07:53:37,733] Trial 12 finished with value: 0.84375 and parameters: {'task_lr': 3.2208395050957132e-06, 'meta_lr': 0.0009899709647368464, 'num_adaptation_steps': 2}. Best is trial 9 with value: 0.903125.\n"
          ]
        },
        {
          "output_type": "stream",
          "name": "stdout",
          "text": [
            "Epoch 0/500, Average Loss: 0.6993\n",
            "Epoch 100/500, Average Loss: 0.5171\n",
            "Epoch 200/500, Average Loss: 0.4865\n",
            "Epoch 300/500, Average Loss: 0.4554\n",
            "Epoch 400/500, Average Loss: 0.4649\n"
          ]
        },
        {
          "output_type": "stream",
          "name": "stderr",
          "text": [
            "[I 2023-09-29 07:54:07,986] Trial 13 finished with value: 0.775 and parameters: {'task_lr': 4.155654212374064e-06, 'meta_lr': 0.00033553929568623384, 'num_adaptation_steps': 3}. Best is trial 9 with value: 0.903125.\n"
          ]
        },
        {
          "output_type": "stream",
          "name": "stdout",
          "text": [
            "Epoch 0/500, Average Loss: 0.6793\n",
            "Epoch 100/500, Average Loss: 0.5378\n",
            "Epoch 200/500, Average Loss: 0.5040\n",
            "Epoch 300/500, Average Loss: 0.4938\n",
            "Epoch 400/500, Average Loss: 0.4556\n"
          ]
        },
        {
          "output_type": "stream",
          "name": "stderr",
          "text": [
            "[I 2023-09-29 07:54:50,243] Trial 14 finished with value: 0.759375 and parameters: {'task_lr': 1.029458735917024e-06, 'meta_lr': 0.00023252544718875724, 'num_adaptation_steps': 5}. Best is trial 9 with value: 0.903125.\n"
          ]
        },
        {
          "output_type": "stream",
          "name": "stdout",
          "text": [
            "Epoch 0/500, Average Loss: 0.6935\n",
            "Epoch 100/500, Average Loss: 0.4891\n",
            "Epoch 200/500, Average Loss: 0.4515\n",
            "Epoch 300/500, Average Loss: 0.4367\n",
            "Epoch 400/500, Average Loss: 0.3706\n"
          ]
        },
        {
          "output_type": "stream",
          "name": "stderr",
          "text": [
            "[I 2023-09-29 07:55:08,976] Trial 15 finished with value: 0.859375 and parameters: {'task_lr': 1.985273070318662e-06, 'meta_lr': 0.0007128371604959475, 'num_adaptation_steps': 1}. Best is trial 9 with value: 0.903125.\n"
          ]
        },
        {
          "output_type": "stream",
          "name": "stdout",
          "text": [
            "Epoch 0/500, Average Loss: 0.7010\n",
            "Epoch 100/500, Average Loss: 0.6875\n",
            "Epoch 200/500, Average Loss: 0.6846\n",
            "Epoch 300/500, Average Loss: 0.6661\n",
            "Epoch 400/500, Average Loss: 0.6632\n"
          ]
        },
        {
          "output_type": "stream",
          "name": "stderr",
          "text": [
            "[I 2023-09-29 07:55:28,400] Trial 16 finished with value: 0.6375 and parameters: {'task_lr': 5.412777664996498e-06, 'meta_lr': 1.0747636880506082e-05, 'num_adaptation_steps': 1}. Best is trial 9 with value: 0.903125.\n"
          ]
        },
        {
          "output_type": "stream",
          "name": "stdout",
          "text": [
            "Epoch 0/500, Average Loss: 0.7043\n",
            "Epoch 100/500, Average Loss: 0.5330\n",
            "Epoch 200/500, Average Loss: 0.5125\n",
            "Epoch 300/500, Average Loss: 0.4903\n",
            "Epoch 400/500, Average Loss: 0.4480\n"
          ]
        },
        {
          "output_type": "stream",
          "name": "stderr",
          "text": [
            "[I 2023-09-29 07:55:46,993] Trial 17 finished with value: 0.740625 and parameters: {'task_lr': 1.9851815110883727e-06, 'meta_lr': 0.00023061194851791206, 'num_adaptation_steps': 1}. Best is trial 9 with value: 0.903125.\n"
          ]
        },
        {
          "output_type": "stream",
          "name": "stdout",
          "text": [
            "Epoch 0/500, Average Loss: 0.6949\n",
            "Epoch 100/500, Average Loss: 0.5123\n",
            "Epoch 200/500, Average Loss: 0.4971\n",
            "Epoch 300/500, Average Loss: 0.4271\n",
            "Epoch 400/500, Average Loss: 0.3861\n"
          ]
        },
        {
          "output_type": "stream",
          "name": "stderr",
          "text": [
            "[I 2023-09-29 07:56:11,607] Trial 18 finished with value: 0.809375 and parameters: {'task_lr': 3.6769466212057053e-06, 'meta_lr': 0.0005394025716243146, 'num_adaptation_steps': 2}. Best is trial 9 with value: 0.903125.\n"
          ]
        },
        {
          "output_type": "stream",
          "name": "stdout",
          "text": [
            "Epoch 0/500, Average Loss: 0.6815\n",
            "Epoch 100/500, Average Loss: 0.4924\n",
            "Epoch 200/500, Average Loss: 0.4710\n",
            "Epoch 300/500, Average Loss: 0.4020\n",
            "Epoch 400/500, Average Loss: 0.3669\n"
          ]
        },
        {
          "output_type": "stream",
          "name": "stderr",
          "text": [
            "[I 2023-09-29 07:56:30,463] Trial 19 finished with value: 0.8375 and parameters: {'task_lr': 1.7745598522969593e-06, 'meta_lr': 0.0006372717783856516, 'num_adaptation_steps': 1}. Best is trial 9 with value: 0.903125.\n"
          ]
        },
        {
          "output_type": "stream",
          "name": "stdout",
          "text": [
            "Epoch 0/500, Average Loss: 0.6774\n",
            "Epoch 100/500, Average Loss: 0.5241\n",
            "Epoch 200/500, Average Loss: 0.5289\n",
            "Epoch 300/500, Average Loss: 0.5023\n",
            "Epoch 400/500, Average Loss: 0.4832\n"
          ]
        },
        {
          "output_type": "stream",
          "name": "stderr",
          "text": [
            "[I 2023-09-29 07:56:55,174] Trial 20 finished with value: 0.709375 and parameters: {'task_lr': 8.411434471155316e-06, 'meta_lr': 0.0002457964778965786, 'num_adaptation_steps': 2}. Best is trial 9 with value: 0.903125.\n"
          ]
        },
        {
          "output_type": "stream",
          "name": "stdout",
          "text": [
            "Epoch 0/500, Average Loss: 0.6966\n",
            "Epoch 100/500, Average Loss: 0.4817\n",
            "Epoch 200/500, Average Loss: 0.4315\n",
            "Epoch 300/500, Average Loss: 0.3881\n",
            "Epoch 400/500, Average Loss: 0.3459\n"
          ]
        },
        {
          "output_type": "stream",
          "name": "stderr",
          "text": [
            "[I 2023-09-29 07:57:25,624] Trial 21 finished with value: 0.871875 and parameters: {'task_lr': 2.6385124614439363e-06, 'meta_lr': 0.0008785789626815577, 'num_adaptation_steps': 3}. Best is trial 9 with value: 0.903125.\n"
          ]
        },
        {
          "output_type": "stream",
          "name": "stdout",
          "text": [
            "Epoch 0/500, Average Loss: 0.7033\n",
            "Epoch 100/500, Average Loss: 0.4951\n",
            "Epoch 200/500, Average Loss: 0.4622\n",
            "Epoch 300/500, Average Loss: 0.4252\n",
            "Epoch 400/500, Average Loss: 0.3805\n"
          ]
        },
        {
          "output_type": "stream",
          "name": "stderr",
          "text": [
            "[I 2023-09-29 07:57:55,808] Trial 22 finished with value: 0.840625 and parameters: {'task_lr': 1.4153566928721363e-06, 'meta_lr': 0.0007279031638948376, 'num_adaptation_steps': 3}. Best is trial 9 with value: 0.903125.\n"
          ]
        },
        {
          "output_type": "stream",
          "name": "stdout",
          "text": [
            "Epoch 0/500, Average Loss: 0.6814\n",
            "Epoch 100/500, Average Loss: 0.5174\n",
            "Epoch 200/500, Average Loss: 0.4763\n",
            "Epoch 300/500, Average Loss: 0.4948\n",
            "Epoch 400/500, Average Loss: 0.4545\n"
          ]
        },
        {
          "output_type": "stream",
          "name": "stderr",
          "text": [
            "[I 2023-09-29 07:58:26,539] Trial 23 finished with value: 0.790625 and parameters: {'task_lr': 2.807196505473132e-06, 'meta_lr': 0.00044406203688801755, 'num_adaptation_steps': 3}. Best is trial 9 with value: 0.903125.\n"
          ]
        },
        {
          "output_type": "stream",
          "name": "stdout",
          "text": [
            "Epoch 0/500, Average Loss: 0.7029\n",
            "Epoch 100/500, Average Loss: 0.5068\n",
            "Epoch 200/500, Average Loss: 0.4447\n",
            "Epoch 300/500, Average Loss: 0.4263\n",
            "Epoch 400/500, Average Loss: 0.3986\n"
          ]
        },
        {
          "output_type": "stream",
          "name": "stderr",
          "text": [
            "[I 2023-09-29 07:58:45,150] Trial 24 finished with value: 0.825 and parameters: {'task_lr': 1.4989563775743659e-06, 'meta_lr': 0.0006438167457417057, 'num_adaptation_steps': 1}. Best is trial 9 with value: 0.903125.\n"
          ]
        },
        {
          "output_type": "stream",
          "name": "stdout",
          "text": [
            "Epoch 0/500, Average Loss: 0.6842\n",
            "Epoch 100/500, Average Loss: 0.5032\n",
            "Epoch 200/500, Average Loss: 0.4673\n",
            "Epoch 300/500, Average Loss: 0.4035\n",
            "Epoch 400/500, Average Loss: 0.3636\n"
          ]
        },
        {
          "output_type": "stream",
          "name": "stderr",
          "text": [
            "[I 2023-09-29 07:59:10,137] Trial 25 finished with value: 0.825 and parameters: {'task_lr': 4.62800162919696e-06, 'meta_lr': 0.0007510571476987291, 'num_adaptation_steps': 2}. Best is trial 9 with value: 0.903125.\n"
          ]
        },
        {
          "output_type": "stream",
          "name": "stdout",
          "text": [
            "Epoch 0/500, Average Loss: 0.6958\n",
            "Epoch 100/500, Average Loss: 0.5151\n",
            "Epoch 200/500, Average Loss: 0.4784\n",
            "Epoch 300/500, Average Loss: 0.4686\n",
            "Epoch 400/500, Average Loss: 0.4634\n"
          ]
        },
        {
          "output_type": "stream",
          "name": "stderr",
          "text": [
            "[I 2023-09-29 07:59:46,200] Trial 26 finished with value: 0.765625 and parameters: {'task_lr': 2.6055608370174097e-06, 'meta_lr': 0.0003777301892246076, 'num_adaptation_steps': 4}. Best is trial 9 with value: 0.903125.\n"
          ]
        },
        {
          "output_type": "stream",
          "name": "stdout",
          "text": [
            "Epoch 0/500, Average Loss: 0.6902\n",
            "Epoch 100/500, Average Loss: 0.5023\n",
            "Epoch 200/500, Average Loss: 0.4587\n",
            "Epoch 300/500, Average Loss: 0.4064\n",
            "Epoch 400/500, Average Loss: 0.3797\n"
          ]
        },
        {
          "output_type": "stream",
          "name": "stderr",
          "text": [
            "[I 2023-09-29 08:00:05,047] Trial 27 finished with value: 0.809375 and parameters: {'task_lr': 1.3167099528106323e-06, 'meta_lr': 0.0007814002933421105, 'num_adaptation_steps': 1}. Best is trial 9 with value: 0.903125.\n"
          ]
        },
        {
          "output_type": "stream",
          "name": "stdout",
          "text": [
            "Epoch 0/500, Average Loss: 0.6833\n",
            "Epoch 100/500, Average Loss: 0.5204\n",
            "Epoch 200/500, Average Loss: 0.5060\n",
            "Epoch 300/500, Average Loss: 0.4706\n",
            "Epoch 400/500, Average Loss: 0.4363\n"
          ]
        },
        {
          "output_type": "stream",
          "name": "stderr",
          "text": [
            "[I 2023-09-29 08:00:29,530] Trial 28 finished with value: 0.80625 and parameters: {'task_lr': 3.377083966480866e-06, 'meta_lr': 0.0004804177645011337, 'num_adaptation_steps': 2}. Best is trial 9 with value: 0.903125.\n"
          ]
        },
        {
          "output_type": "stream",
          "name": "stdout",
          "text": [
            "Epoch 0/500, Average Loss: 0.7017\n",
            "Epoch 100/500, Average Loss: 0.4940\n",
            "Epoch 200/500, Average Loss: 0.4338\n",
            "Epoch 300/500, Average Loss: 0.3768\n",
            "Epoch 400/500, Average Loss: 0.3090\n"
          ]
        },
        {
          "output_type": "stream",
          "name": "stderr",
          "text": [
            "[I 2023-09-29 08:00:59,637] Trial 29 finished with value: 0.84375 and parameters: {'task_lr': 2.1158908114484414e-06, 'meta_lr': 0.0009854528261699258, 'num_adaptation_steps': 3}. Best is trial 9 with value: 0.903125.\n"
          ]
        },
        {
          "output_type": "stream",
          "name": "stdout",
          "text": [
            "Epoch 0/500, Average Loss: 0.6909\n",
            "Epoch 100/500, Average Loss: 0.5125\n",
            "Epoch 200/500, Average Loss: 0.4986\n",
            "Epoch 300/500, Average Loss: 0.4817\n",
            "Epoch 400/500, Average Loss: 0.4538\n"
          ]
        },
        {
          "output_type": "stream",
          "name": "stderr",
          "text": [
            "[I 2023-09-29 08:01:30,208] Trial 30 finished with value: 0.784375 and parameters: {'task_lr': 6.066575389421262e-06, 'meta_lr': 0.0002895394765609516, 'num_adaptation_steps': 3}. Best is trial 9 with value: 0.903125.\n"
          ]
        },
        {
          "output_type": "stream",
          "name": "stdout",
          "text": [
            "Epoch 0/500, Average Loss: 0.7057\n",
            "Epoch 100/500, Average Loss: 0.4715\n",
            "Epoch 200/500, Average Loss: 0.4010\n",
            "Epoch 300/500, Average Loss: 0.3642\n",
            "Epoch 400/500, Average Loss: 0.3263\n"
          ]
        },
        {
          "output_type": "stream",
          "name": "stderr",
          "text": [
            "[I 2023-09-29 08:02:06,327] Trial 31 finished with value: 0.89375 and parameters: {'task_lr': 2.246110849375405e-06, 'meta_lr': 0.0009777071790081175, 'num_adaptation_steps': 4}. Best is trial 9 with value: 0.903125.\n"
          ]
        },
        {
          "output_type": "stream",
          "name": "stdout",
          "text": [
            "Epoch 0/500, Average Loss: 0.6935\n",
            "Epoch 100/500, Average Loss: 0.4939\n",
            "Epoch 200/500, Average Loss: 0.3923\n",
            "Epoch 300/500, Average Loss: 0.4221\n",
            "Epoch 400/500, Average Loss: 0.3479\n"
          ]
        },
        {
          "output_type": "stream",
          "name": "stderr",
          "text": [
            "[I 2023-09-29 08:02:43,213] Trial 32 finished with value: 0.828125 and parameters: {'task_lr': 2.0358510101684768e-06, 'meta_lr': 0.000698375544312371, 'num_adaptation_steps': 4}. Best is trial 9 with value: 0.903125.\n"
          ]
        },
        {
          "output_type": "stream",
          "name": "stdout",
          "text": [
            "Epoch 0/500, Average Loss: 0.7177\n",
            "Epoch 100/500, Average Loss: 0.5154\n",
            "Epoch 200/500, Average Loss: 0.5075\n",
            "Epoch 300/500, Average Loss: 0.4519\n",
            "Epoch 400/500, Average Loss: 0.4115\n"
          ]
        },
        {
          "output_type": "stream",
          "name": "stderr",
          "text": [
            "[I 2023-09-29 08:03:19,592] Trial 33 finished with value: 0.846875 and parameters: {'task_lr': 3.0198093107618633e-06, 'meta_lr': 0.0005775874582295357, 'num_adaptation_steps': 4}. Best is trial 9 with value: 0.903125.\n"
          ]
        },
        {
          "output_type": "stream",
          "name": "stdout",
          "text": [
            "Epoch 0/500, Average Loss: 0.6929\n",
            "Epoch 100/500, Average Loss: 0.5064\n",
            "Epoch 200/500, Average Loss: 0.4769\n",
            "Epoch 300/500, Average Loss: 0.4346\n",
            "Epoch 400/500, Average Loss: 0.4441\n"
          ]
        },
        {
          "output_type": "stream",
          "name": "stderr",
          "text": [
            "[I 2023-09-29 08:03:55,442] Trial 34 finished with value: 0.76875 and parameters: {'task_lr': 1.2443149786913803e-06, 'meta_lr': 0.0005167002420924806, 'num_adaptation_steps': 4}. Best is trial 9 with value: 0.903125.\n"
          ]
        },
        {
          "output_type": "stream",
          "name": "stdout",
          "text": [
            "Epoch 0/500, Average Loss: 0.7016\n",
            "Epoch 100/500, Average Loss: 0.4779\n",
            "Epoch 200/500, Average Loss: 0.4527\n",
            "Epoch 300/500, Average Loss: 0.3837\n",
            "Epoch 400/500, Average Loss: 0.3309\n"
          ]
        },
        {
          "output_type": "stream",
          "name": "stderr",
          "text": [
            "[I 2023-09-29 08:04:14,050] Trial 35 finished with value: 0.8375 and parameters: {'task_lr': 1.8487136473452223e-06, 'meta_lr': 0.0008282189403425097, 'num_adaptation_steps': 1}. Best is trial 9 with value: 0.903125.\n"
          ]
        },
        {
          "output_type": "stream",
          "name": "stdout",
          "text": [
            "Epoch 0/500, Average Loss: 0.6768\n",
            "Epoch 100/500, Average Loss: 0.5075\n",
            "Epoch 200/500, Average Loss: 0.4701\n",
            "Epoch 300/500, Average Loss: 0.4283\n",
            "Epoch 400/500, Average Loss: 0.3792\n"
          ]
        },
        {
          "output_type": "stream",
          "name": "stderr",
          "text": [
            "[I 2023-09-29 08:04:49,427] Trial 36 finished with value: 0.8125 and parameters: {'task_lr': 4.498903175890339e-06, 'meta_lr': 0.0005783272986702849, 'num_adaptation_steps': 4}. Best is trial 9 with value: 0.903125.\n"
          ]
        },
        {
          "output_type": "stream",
          "name": "stdout",
          "text": [
            "Epoch 0/500, Average Loss: 0.7199\n",
            "Epoch 100/500, Average Loss: 0.5005\n",
            "Epoch 200/500, Average Loss: 0.4548\n",
            "Epoch 300/500, Average Loss: 0.3834\n",
            "Epoch 400/500, Average Loss: 0.3753\n"
          ]
        },
        {
          "output_type": "stream",
          "name": "stderr",
          "text": [
            "[I 2023-09-29 08:05:13,712] Trial 37 finished with value: 0.853125 and parameters: {'task_lr': 1.6342234600467273e-06, 'meta_lr': 0.0007614837495135495, 'num_adaptation_steps': 2}. Best is trial 9 with value: 0.903125.\n"
          ]
        },
        {
          "output_type": "stream",
          "name": "stdout",
          "text": [
            "Epoch 0/500, Average Loss: 0.6888\n",
            "Epoch 100/500, Average Loss: 0.4962\n",
            "Epoch 200/500, Average Loss: 0.4552\n",
            "Epoch 300/500, Average Loss: 0.4174\n",
            "Epoch 400/500, Average Loss: 0.3439\n"
          ]
        },
        {
          "output_type": "stream",
          "name": "stderr",
          "text": [
            "[I 2023-09-29 08:05:55,901] Trial 38 finished with value: 0.853125 and parameters: {'task_lr': 2.5417606403808615e-06, 'meta_lr': 0.0009933809096555083, 'num_adaptation_steps': 5}. Best is trial 9 with value: 0.903125.\n"
          ]
        },
        {
          "output_type": "stream",
          "name": "stdout",
          "text": [
            "Epoch 0/500, Average Loss: 0.6957\n",
            "Epoch 100/500, Average Loss: 0.5270\n",
            "Epoch 200/500, Average Loss: 0.4686\n",
            "Epoch 300/500, Average Loss: 0.4457\n",
            "Epoch 400/500, Average Loss: 0.4310\n"
          ]
        },
        {
          "output_type": "stream",
          "name": "stderr",
          "text": [
            "[I 2023-09-29 08:06:26,100] Trial 39 finished with value: 0.79375 and parameters: {'task_lr': 3.488781941792605e-06, 'meta_lr': 0.00040952062651291557, 'num_adaptation_steps': 3}. Best is trial 9 with value: 0.903125.\n"
          ]
        },
        {
          "output_type": "stream",
          "name": "stdout",
          "text": [
            "Epoch 0/500, Average Loss: 0.6756\n",
            "Epoch 100/500, Average Loss: 0.4868\n",
            "Epoch 200/500, Average Loss: 0.4973\n",
            "Epoch 300/500, Average Loss: 0.4376\n",
            "Epoch 400/500, Average Loss: 0.4273\n"
          ]
        },
        {
          "output_type": "stream",
          "name": "stderr",
          "text": [
            "[I 2023-09-29 08:06:44,535] Trial 40 finished with value: 0.834375 and parameters: {'task_lr': 1.365323471298279e-06, 'meta_lr': 0.0006000976398388106, 'num_adaptation_steps': 1}. Best is trial 9 with value: 0.903125.\n"
          ]
        },
        {
          "output_type": "stream",
          "name": "stdout",
          "text": [
            "Epoch 0/500, Average Loss: 0.6880\n",
            "Epoch 100/500, Average Loss: 0.4935\n",
            "Epoch 200/500, Average Loss: 0.4360\n",
            "Epoch 300/500, Average Loss: 0.3923\n",
            "Epoch 400/500, Average Loss: 0.3318\n"
          ]
        },
        {
          "output_type": "stream",
          "name": "stderr",
          "text": [
            "[I 2023-09-29 08:07:26,314] Trial 41 finished with value: 0.8625 and parameters: {'task_lr': 2.325188600641957e-06, 'meta_lr': 0.0008734686277501384, 'num_adaptation_steps': 5}. Best is trial 9 with value: 0.903125.\n"
          ]
        },
        {
          "output_type": "stream",
          "name": "stdout",
          "text": [
            "Epoch 0/500, Average Loss: 0.6980\n",
            "Epoch 100/500, Average Loss: 0.4815\n",
            "Epoch 200/500, Average Loss: 0.4654\n",
            "Epoch 300/500, Average Loss: 0.4178\n",
            "Epoch 400/500, Average Loss: 0.3825\n"
          ]
        },
        {
          "output_type": "stream",
          "name": "stderr",
          "text": [
            "[I 2023-09-29 08:08:08,370] Trial 42 finished with value: 0.853125 and parameters: {'task_lr': 2.2981793515035713e-06, 'meta_lr': 0.0008027581267136221, 'num_adaptation_steps': 5}. Best is trial 9 with value: 0.903125.\n"
          ]
        },
        {
          "output_type": "stream",
          "name": "stdout",
          "text": [
            "Epoch 0/500, Average Loss: 0.6857\n",
            "Epoch 100/500, Average Loss: 0.4933\n",
            "Epoch 200/500, Average Loss: 0.4473\n",
            "Epoch 300/500, Average Loss: 0.3951\n",
            "Epoch 400/500, Average Loss: 0.3378\n"
          ]
        },
        {
          "output_type": "stream",
          "name": "stderr",
          "text": [
            "[I 2023-09-29 08:08:50,358] Trial 43 finished with value: 0.81875 and parameters: {'task_lr': 1.711829063016212e-06, 'meta_lr': 0.0008375032679109234, 'num_adaptation_steps': 5}. Best is trial 9 with value: 0.903125.\n"
          ]
        },
        {
          "output_type": "stream",
          "name": "stdout",
          "text": [
            "Epoch 0/500, Average Loss: 0.6963\n",
            "Epoch 100/500, Average Loss: 0.5107\n",
            "Epoch 200/500, Average Loss: 0.4786\n",
            "Epoch 300/500, Average Loss: 0.4685\n",
            "Epoch 400/500, Average Loss: 0.4397\n"
          ]
        },
        {
          "output_type": "stream",
          "name": "stderr",
          "text": [
            "[I 2023-09-29 08:09:27,245] Trial 44 finished with value: 0.75625 and parameters: {'task_lr': 2.8205417223569124e-06, 'meta_lr': 0.000501398054677468, 'num_adaptation_steps': 4}. Best is trial 9 with value: 0.903125.\n"
          ]
        },
        {
          "output_type": "stream",
          "name": "stdout",
          "text": [
            "Epoch 0/500, Average Loss: 0.6914\n",
            "Epoch 100/500, Average Loss: 0.5361\n",
            "Epoch 200/500, Average Loss: 0.4576\n",
            "Epoch 300/500, Average Loss: 0.4292\n",
            "Epoch 400/500, Average Loss: 0.4251\n"
          ]
        },
        {
          "output_type": "stream",
          "name": "stderr",
          "text": [
            "[I 2023-09-29 08:10:08,336] Trial 45 finished with value: 0.840625 and parameters: {'task_lr': 1.1477679586491098e-06, 'meta_lr': 0.0006495595711571849, 'num_adaptation_steps': 5}. Best is trial 9 with value: 0.903125.\n"
          ]
        },
        {
          "output_type": "stream",
          "name": "stdout",
          "text": [
            "Epoch 0/500, Average Loss: 0.6948\n",
            "Epoch 100/500, Average Loss: 0.5014\n",
            "Epoch 200/500, Average Loss: 0.4467\n",
            "Epoch 300/500, Average Loss: 0.4471\n",
            "Epoch 400/500, Average Loss: 0.3924\n"
          ]
        },
        {
          "output_type": "stream",
          "name": "stderr",
          "text": [
            "[I 2023-09-29 08:10:44,338] Trial 46 finished with value: 0.8375 and parameters: {'task_lr': 1.0151321294194058e-06, 'meta_lr': 0.0008909306108703496, 'num_adaptation_steps': 4}. Best is trial 9 with value: 0.903125.\n"
          ]
        },
        {
          "output_type": "stream",
          "name": "stdout",
          "text": [
            "Epoch 0/500, Average Loss: 0.6944\n",
            "Epoch 100/500, Average Loss: 0.4983\n",
            "Epoch 200/500, Average Loss: 0.4233\n",
            "Epoch 300/500, Average Loss: 0.3816\n",
            "Epoch 400/500, Average Loss: 0.3418\n"
          ]
        },
        {
          "output_type": "stream",
          "name": "stderr",
          "text": [
            "[I 2023-09-29 08:11:25,722] Trial 47 finished with value: 0.865625 and parameters: {'task_lr': 1.5389714221373827e-06, 'meta_lr': 0.0009955321494359128, 'num_adaptation_steps': 5}. Best is trial 9 with value: 0.903125.\n"
          ]
        },
        {
          "output_type": "stream",
          "name": "stdout",
          "text": [
            "Epoch 0/500, Average Loss: 0.6932\n",
            "Epoch 100/500, Average Loss: 0.4845\n",
            "Epoch 200/500, Average Loss: 0.4154\n",
            "Epoch 300/500, Average Loss: 0.3436\n",
            "Epoch 400/500, Average Loss: 0.3253\n"
          ]
        },
        {
          "output_type": "stream",
          "name": "stderr",
          "text": [
            "[I 2023-09-29 08:12:07,843] Trial 48 finished with value: 0.871875 and parameters: {'task_lr': 1.5719379218744298e-06, 'meta_lr': 0.0009881188967351554, 'num_adaptation_steps': 5}. Best is trial 9 with value: 0.903125.\n"
          ]
        },
        {
          "output_type": "stream",
          "name": "stdout",
          "text": [
            "Epoch 0/500, Average Loss: 0.6928\n",
            "Epoch 100/500, Average Loss: 0.5207\n",
            "Epoch 200/500, Average Loss: 0.4804\n",
            "Epoch 300/500, Average Loss: 0.4749\n",
            "Epoch 400/500, Average Loss: 0.4495\n"
          ]
        },
        {
          "output_type": "stream",
          "name": "stderr",
          "text": [
            "[I 2023-09-29 08:12:49,442] Trial 49 finished with value: 0.775 and parameters: {'task_lr': 1.529131894506707e-06, 'meta_lr': 0.0004108634429075988, 'num_adaptation_steps': 5}. Best is trial 9 with value: 0.903125.\n"
          ]
        },
        {
          "output_type": "stream",
          "name": "stdout",
          "text": [
            "Best hyperparameters: {'task_lr': 1.5811305439438314e-06, 'meta_lr': 0.0009934465490366903, 'num_adaptation_steps': 1}\n"
          ]
        }
      ]
    },
    {
      "cell_type": "code",
      "source": [
        "# Best Parameter로 MAML 학습 실행\n",
        "model = SimpleModel(processed_data.shape[1] - 2, best_params)\n",
        "maml(model, tasks_data, num_adaptation_steps=1, task_lr = 1.5811305439438314e-06, meta_lr = 0.0009934465490366903, num_epochs=500, checkpoint_dir='checkpoints', log_interval=10)"
      ],
      "metadata": {
        "colab": {
          "base_uri": "https://localhost:8080/"
        },
        "id": "YARmPBjt6DDQ",
        "outputId": "bc5807dd-2ad5-4b60-92ce-39097d95dba1"
      },
      "execution_count": null,
      "outputs": [
        {
          "output_type": "stream",
          "name": "stdout",
          "text": [
            "Epoch 0/500, Average Loss: 0.6857\n",
            "Epoch 10/500, Average Loss: 0.6192\n",
            "Epoch 20/500, Average Loss: 0.5739\n",
            "Epoch 30/500, Average Loss: 0.5651\n",
            "Epoch 40/500, Average Loss: 0.5308\n",
            "Epoch 50/500, Average Loss: 0.5222\n",
            "Epoch 60/500, Average Loss: 0.5161\n",
            "Epoch 70/500, Average Loss: 0.5195\n",
            "Epoch 80/500, Average Loss: 0.5140\n",
            "Epoch 90/500, Average Loss: 0.5036\n",
            "Epoch 100/500, Average Loss: 0.4971\n",
            "Epoch 110/500, Average Loss: 0.5352\n",
            "Epoch 120/500, Average Loss: 0.4692\n",
            "Epoch 130/500, Average Loss: 0.4725\n",
            "Epoch 140/500, Average Loss: 0.4748\n",
            "Epoch 150/500, Average Loss: 0.4710\n",
            "Epoch 160/500, Average Loss: 0.4735\n",
            "Epoch 170/500, Average Loss: 0.4482\n",
            "Epoch 180/500, Average Loss: 0.4555\n",
            "Epoch 190/500, Average Loss: 0.4405\n",
            "Epoch 200/500, Average Loss: 0.4549\n",
            "Epoch 210/500, Average Loss: 0.4339\n",
            "Epoch 220/500, Average Loss: 0.4184\n",
            "Epoch 230/500, Average Loss: 0.3952\n",
            "Epoch 240/500, Average Loss: 0.4004\n",
            "Epoch 250/500, Average Loss: 0.3787\n",
            "Epoch 260/500, Average Loss: 0.3979\n",
            "Epoch 270/500, Average Loss: 0.3724\n",
            "Epoch 280/500, Average Loss: 0.4024\n",
            "Epoch 290/500, Average Loss: 0.3811\n",
            "Epoch 300/500, Average Loss: 0.3640\n",
            "Epoch 310/500, Average Loss: 0.3629\n",
            "Epoch 320/500, Average Loss: 0.3479\n",
            "Epoch 330/500, Average Loss: 0.3916\n",
            "Epoch 340/500, Average Loss: 0.3584\n",
            "Epoch 350/500, Average Loss: 0.3354\n",
            "Epoch 360/500, Average Loss: 0.3306\n",
            "Epoch 370/500, Average Loss: 0.3331\n",
            "Epoch 380/500, Average Loss: 0.3613\n",
            "Epoch 390/500, Average Loss: 0.3413\n",
            "Epoch 400/500, Average Loss: 0.3020\n",
            "Epoch 410/500, Average Loss: 0.3551\n",
            "Epoch 420/500, Average Loss: 0.2939\n",
            "Epoch 430/500, Average Loss: 0.3039\n",
            "Epoch 440/500, Average Loss: 0.3083\n",
            "Epoch 450/500, Average Loss: 0.2854\n",
            "Epoch 460/500, Average Loss: 0.2727\n",
            "Epoch 470/500, Average Loss: 0.2945\n",
            "Epoch 480/500, Average Loss: 0.2961\n",
            "Epoch 490/500, Average Loss: 0.3104\n"
          ]
        }
      ]
    },
    {
      "cell_type": "markdown",
      "source": [
        "## Model Gender-Fairness"
      ],
      "metadata": {
        "id": "jU_ot4asZ2S6"
      }
    },
    {
      "cell_type": "code",
      "source": [
        "def evaluate_maml_model_by_gender(model, tasks_data, params, gender, num_adaptation_steps=1, task_lr=1e-2):\n",
        "    accuracies = []\n",
        "\n",
        "    for task_data in tasks_data:\n",
        "        # Filter data by gender\n",
        "        gender_idx = (task_data['val'][0][:, -8] == gender).nonzero().squeeze()  # -8 to get the 'gender_M' column\n",
        "        gender_features = task_data['val'][0][gender_idx]\n",
        "\n",
        "        # Check for 0-d tensor\n",
        "        if gender_idx.dim() == 0:\n",
        "            continue  # Skip if no data for the specified gender in this task\n",
        "\n",
        "        gender_labels = task_data['val'][1][gender_idx]\n",
        "\n",
        "        if len(gender_labels) == 0:\n",
        "            continue  # Skip if no data for the specified gender in this task\n",
        "\n",
        "        # Adaptation step\n",
        "        task_model = SimpleModel(processed_data.shape[1] - 2, params)  # Only exclude 'is_dead' and 'cluster'\n",
        "        task_model.load_state_dict(model.state_dict())\n",
        "        task_optimizer = optim.SGD(task_model.parameters(), lr=task_lr)\n",
        "\n",
        "\n",
        "        for step in range(num_adaptation_steps):\n",
        "            train_output = task_model(task_data['train'][0])\n",
        "            train_loss = loss_function(train_output, task_data['train'][1])\n",
        "            task_optimizer.zero_grad()\n",
        "            train_loss.backward()\n",
        "            task_optimizer.step()\n",
        "\n",
        "        # Evaluate on validation data for the specific gender\n",
        "        val_output = task_model(gender_features)\n",
        "        val_predictions = torch.sigmoid(val_output) > 0.5\n",
        "        corrects = (val_predictions == gender_labels.bool()).sum().item()\n",
        "        accuracy = corrects / len(gender_labels)\n",
        "        accuracies.append(accuracy)\n",
        "\n",
        "    return np.mean(accuracies) if accuracies else 0  # Return 0 if no data for the gender across all tasks\n",
        "\n",
        "# 남자 데이터로 평가\n",
        "male_accuracy = evaluate_maml_model_by_gender(model, tasks_data, best_params, gender=1.0)\n",
        "print(f\"Mean Accuracy for Male: {male_accuracy:.4f}\")\n",
        "\n",
        "# 여자 데이터로 평가\n",
        "female_accuracy = evaluate_maml_model_by_gender(model, tasks_data, best_params, gender=0.0)\n",
        "print(f\"Mean Accuracy for Female: {female_accuracy:.4f}\")"
      ],
      "metadata": {
        "colab": {
          "base_uri": "https://localhost:8080/"
        },
        "id": "yMFx0w0HXw6X",
        "outputId": "94634c78-af76-40d1-bef7-1e7456373b9f"
      },
      "execution_count": 86,
      "outputs": [
        {
          "output_type": "stream",
          "name": "stdout",
          "text": [
            "Mean Accuracy for Male: 0.9818\n",
            "Mean Accuracy for Female: 1.0000\n"
          ]
        }
      ]
    },
    {
      "cell_type": "code",
      "source": [
        "import numpy as np\n",
        "import matplotlib.pyplot as plt\n",
        "import seaborn as sns\n",
        "\n",
        "# 데이터 생성\n",
        "male_acc_list = [evaluate_maml_model_by_gender(model, tasks_data, best_params, gender=1.0) for _ in range(100)]\n",
        "female_acc_list = [evaluate_maml_model_by_gender(model, tasks_data, best_params, gender=0.0) for _ in range(100)]\n",
        "\n",
        "# 그래프 스타일 설정\n",
        "sns.set_style(\"whitegrid\")\n",
        "plt.figure(figsize=(10, 6))\n",
        "\n",
        "# 남성 정확도 그래프\n",
        "plt.subplot(2, 1, 1)\n",
        "sns.histplot(male_acc_list, kde=True, color=\"skyblue\", bins=20)\n",
        "plt.axvline(np.mean(male_acc_list), color='k', linestyle='dashed', linewidth=1)\n",
        "plt.title(\"Male Model Accuracy Distribution\", fontsize=16)\n",
        "plt.xlabel(\"Accuracy\", fontsize=14)\n",
        "plt.ylabel(\"Frequency\", fontsize=14)\n",
        "plt.legend({f'Mean accuracy: {np.mean(male_acc_list):.4f}':np.mean(male_acc_list)})\n",
        "\n",
        "# 여성 정확도 그래프\n",
        "plt.subplot(2, 1, 2)\n",
        "sns.histplot(female_acc_list, kde=True, color=\"pink\", bins=20)\n",
        "plt.axvline(np.mean(female_acc_list), color='k', linestyle='dashed', linewidth=1)\n",
        "plt.title(\"Female Model Accuracy Distribution\", fontsize=16)\n",
        "plt.xlabel(\"Accuracy\", fontsize=14)\n",
        "plt.ylabel(\"Frequency\", fontsize=14)\n",
        "plt.legend({f'Mean accuracy: {np.mean(female_acc_list):.4f}':np.mean(female_acc_list)})\n",
        "\n",
        "# 그래프 출력\n",
        "plt.tight_layout()\n",
        "plt.show()\n",
        "\n",
        "# 결과 표시\n",
        "print(f\"Male Mean Accuracy: {np.mean(male_acc_list):.4f}\")\n",
        "print(f\"Male Standard Deviation: {np.std(male_acc_list):.4f}\")\n",
        "print(f\"Female Mean Accuracy: {np.mean(female_acc_list):.4f}\")\n",
        "print(f\"Female Standard Deviation: {np.std(female_acc_list):.4f}\")\n"
      ],
      "metadata": {
        "colab": {
          "base_uri": "https://localhost:8080/",
          "height": 465
        },
        "id": "7Juf3hM4Z92d",
        "outputId": "9589f5c6-63dd-407b-f479-f1a6eca255fd"
      },
      "execution_count": 127,
      "outputs": [
        {
          "output_type": "display_data",
          "data": {
            "text/plain": [
              "<Figure size 1000x600 with 2 Axes>"
            ],
            "image/png": "[encoded data removed]"
          },
          "metadata": {}
        },
        {
          "output_type": "stream",
          "name": "stdout",
          "text": [
            "Male Mean Accuracy: 0.9960\n",
            "Male Standard Deviation: 0.0064\n",
            "Female Mean Accuracy: 0.9986\n",
            "Female Standard Deviation: 0.0055\n"
          ]
        }
      ]
    }
  ]
}